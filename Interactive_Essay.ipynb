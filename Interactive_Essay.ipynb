{
  "nbformat": 4,
  "nbformat_minor": 0,
  "metadata": {
    "colab": {
      "provenance": []
    },
    "kernelspec": {
      "name": "python3",
      "display_name": "Python 3"
    },
    "language_info": {
      "name": "python"
    }
  },
  "cells": [
    {
      "cell_type": "markdown",
      "source": [
        "# INTERACTIVE ESSAY - TRUMP FOUND GUILTY\n",
        "\n",
        "The purpose of this brief interactive essay is to demonstrate the potential of _Jupyter Notebooks_ in **effectively** communicating diverse types of information."
      ],
      "metadata": {
        "id": "eK0vNtg23Uuy"
      }
    },
    {
      "cell_type": "markdown",
      "source": [
        "## 📚 Contents\n",
        "\n",
        "1. **✨ Introduction**\n",
        "2. **🔍 Article 1**\n",
        "3. **🧩 Article 2**\n",
        "4. **🎉 Brief Sentiment Analysis**\n",
        "5. **🚀 Conclusion**\n",
        "6. **🗂️ Bibliography**\n"
      ],
      "metadata": {
        "id": "5fKHNON6bCve"
      }
    },
    {
      "cell_type": "markdown",
      "source": [
        "\n",
        "##**✨Introduction**\n",
        "<a id=\"introduction\"></a>\n",
        "\n",
        "I decided to investigate the parts of speech makeup of two news reports concerning the recent verdict in the New York State v. Donald Trump case, analyzing coverage from Fox News and CNN, the two leading news outlets in the United States.\n",
        "\n",
        "\n",
        "\n",
        "\n",
        "| News Network | Author(s) | Link |\n",
        "| --- | --- | --- |\n",
        "| Fox News | Brooke Singman | [Trump guilty on all counts in New York criminal trial](https://www.foxnews.com/politics/ny-v-trump-jury-verdict-former-presidents-historic-criminal-trial)\n",
        "| CNN | Jeremy Herb, Lauren del Valle, Kara Scannell | [Trump found guilty in hush money trial](https://edition.cnn.com/2024/05/30/politics/donald-trump-hush-money-trial-verdict/index.html)\n",
        "\n",
        "\n",
        "Additionally, I utalized the <mark>VADER</mark>\n",
        "(Valence Aware Dictionary and sEntiment Reasoner) from the Natural Language Tool Kit to explore the sentiment behind each article.\n",
        "\n",
        "\n",
        "\n",
        "These are tha packages I employed in my research:\n",
        "```\n",
        "from bs4 import BeautifulSoup\n",
        "import requests\n",
        "import nltk\n",
        "from nltk.sentiment import SentimentIntensityAnalyzer\n",
        "import pandas\n",
        "```\n",
        "\n",
        "\n",
        "![trump](https://i.giphy.com/media/v1.Y2lkPTc5MGI3NjExM3ZpenU5aDBqazBkbGNiczcwNGVwdmp3dWNxdWw5ZnM0OXN0b2g3MCZlcD12MV9pbnRlcm5hbF9naWZfYnlfaWQmY3Q9Zw/A3haYYuP6nu3AEppVk/giphy.gif)\n",
        "\n"
      ],
      "metadata": {
        "id": "hnXicO3tZrPs"
      }
    },
    {
      "cell_type": "markdown",
      "source": [
        "## 🔍 **Article 1**\n",
        "<a id=\"code-section-1\"></a>\n",
        "Firstly, I imported the _request_ module in order to scrape the desired Fox News article, and utalised the _BeautifulSoup_ library to make the scraped page more legiable and easier to work with."
      ],
      "metadata": {
        "id": "I_YiTeCzBOmB"
      }
    },
    {
      "cell_type": "code",
      "execution_count": 114,
      "metadata": {
        "id": "xybqFzuGwpFT"
      },
      "outputs": [],
      "source": [
        "from bs4 import BeautifulSoup as bs\n",
        "import requests"
      ]
    },
    {
      "cell_type": "code",
      "source": [
        "page = requests.get('https://www.foxnews.com/politics/ny-v-trump-jury-verdict-former-presidents-historic-criminal-trial')\n",
        "interview = bs(page.content, 'html.parser')"
      ],
      "metadata": {
        "id": "hFH9k6tIe0I8"
      },
      "execution_count": 115,
      "outputs": []
    },
    {
      "cell_type": "code",
      "source": [
        "content = interview.find_all('p')\n",
        "print(content)"
      ],
      "metadata": {
        "colab": {
          "base_uri": "https://localhost:8080/"
        },
        "id": "tGaaZ2aQiW7d",
        "outputId": "fc923d34-a08a-47f3-bfef-b977452b0ff4",
        "collapsed": true
      },
      "execution_count": 63,
      "outputs": [
        {
          "output_type": "stream",
          "name": "stdout",
          "text": [
            "[<p class=\"copyright\">\n",
            "      This material may not be published, broadcast, rewritten,\n",
            "      or redistributed. ©2024 FOX News Network, LLC. All rights reserved.\n",
            "      Quotes displayed in real-time or delayed by at least 15 minutes. Market data provided by\n",
            "      <a data-omtr-intcmp=\"topnav_more_factset\" href=\"https://www.factset.com/\">Factset</a>. Powered and implemented by\n",
            "      <a data-omtr-intcmp=\"topnav_more_factset_digital_solutions\" href=\"https://www.factset.com/solutions/business-needs/digital-solutions\">FactSet Digital Solutions</a>.\n",
            "      <a data-omtr-intcmp=\"topnav_more_factset_privacy\" href=\"https://www.factset.com/privacy\">Legal Statement</a>. Mutual Fund and ETF data provided by\n",
            "      <a data-omtr-intcmp=\"topnav_more_refinitive_info\" href=\"https://lipperalpha.refinitiv.com/\">Refinitiv Lipper</a>.\n",
            "    </p>, <p data-v-b8a95802=\"\">Former President Trump speaks outside the NYC courtroom ahead of closing arguments in his criminal trial.</p>, <p class=\"speakable\">Former President Trump was found guilty on all counts in his historic and unprecedented criminal trial, making him the first former president of the United States to be convicted of a crime. </p>, <p class=\"speakable\">Manhattan District Attorney Alvin Bragg charged former <a href=\"https://www.foxnews.com/category/person/donald-trump\" rel=\"noopener\" target=\"_blank\">President Donald Trump</a> with 34 counts of falsifying business records in the first degree.</p>, <p>Trump pleaded not guilty to all counts.</p>, <p>Jurors found the former president guilty on all counts.</p>, <p><a href=\"https://www.foxnews.com/live-news/may-30-trump-trial-jury-deliberations-day-2\" rel=\"noopener\" target=\"_blank\"><strong>LIVE UPDATES: TRUMP VERDICT</strong></a> </p>, <p>Each count carries a maximum prison sentence of 4 years. In total, Trump faces a maximum sentence of 136 years. </p>, <p>Judge <a href=\"https://www.foxnews.com/politics/stefanik-files-ethics-complaint-against-trump-trial-judge-cites-daughters-work-group-promoting-dems\" rel=\"noopener\" target=\"_blank\">Juan Merchan</a> invited the jury into the courtroom to read its verdict after two days of deliberations. </p>, <p><span>Former president Donald Trump awaits the start of proceedings at Manhattan criminal court, Monday, April 22, 2024, in New York. </span> <span>(AP Photo/Yuki Iwamura, Pool)</span></p>, <p>Sentencing for the former president will be July 11 at 10:00 a.m--just four days before the start of the Republican National Convention, where he is expected to be formally nominated as the 2024 Republican presidential nominee. The convention is July 15- 18 in Milwaukee. </p>, <p>Any motions will need to be filed by June 13th.</p>, <p>The conviction does not bar Trump from running for president. </p>, <p>Prosecutors needed to prove beyond a reasonable doubt that Trump falsified those records to conceal a $130,000 payment to Stormy Daniels, a pornographic performer, in the lead-up to the 2016 election to silence her about an alleged affair with Trump in 2006.</p>, <p><a href=\"https://www.foxnews.com/politics/trump-previews-closing-arguments-sham-trial-very-dangerous-day-america\" rel=\"noopener\" target=\"_blank\"><strong><u>TRUMP PREVIEWS CLOSING ARGUMENTS IN 'SHAM TRIAL': 'VERY DANGEROUS DAY FOR AMERICA'</u></strong></a></p>, <p>Moments after the verdict was delivered by the jury, the former president spoke to reporters in the hallway outside the courtroom. </p>, <p>\"This was a disgrace. This was a rigged trial by a conflicted judge who was corrupt as a rigged trial and disgrace. It wouldn't give us a venue change,\" Trump said. \"We were at five percent or 6% in this district, in this area. This was a rigged, disgraceful trial.\" </p>, <p>Trump said \"the real verdict is going to be November 5th by the people.\" </p>, <p>\"And they know what happened here and everybody knows what happened here,\" Trump said. \"You have a Soros backed DA and the whole thing.\" </p>, <p>He added: \"We didn't do anything wrong. I'm a very innocent man. And it's okay. I'm fighting for our country. I'm fighting for our Constitution. Our whole country is being rigged right now.\" </p>, <p>Trump said that the case was \"done by the Biden administration in order to wound or hurt an opponent, a political opponent.\" </p>, <p>\"And I think it's it's just a disgrace. And we'll keep fighting--we'll fight till the end and we'll win because our country's gone to hell,\" he said. \"We don't have the same country anymore. We have a divided mess. We're a nation of decline, serious decline.\" </p>, <p>Trump said \"millions and millions of people pouring into our country right now from prisons and from mental institutions, terrorists. And they're taking over our country. We have a country that's in big trouble.\" </p>, <p>\"But this was a rigged decision right from day one, with a conflicted judge who should have never been allowed to try this case. Never,\" he said. \"And we will fight for our Constitution. This is long from over.\" </p>, <p>Manhattan District Attorney Alvin Bragg held a press conference Thursday evening, and thanked the jury for its service. </p>, <p>\"We should all be thankful for the careful attention that this jury paid to the evidence and the law in their time and commitment,\" he said. \"Over these past several weeks. 12 everyday New Yorkers and of course, our alternates heard testimony from 22 witnesses, including former and current employees of the defendant, media executives, book publishers, custodians of records and others. Their review, call logs, text messages and emails. They heard recordings. They saw checks and invoices, bank statements and calendar appointments. </p>, <p>He added: \"This type of white collar prosecution is core to what we do at the Manhattan District Attorney's office.\"</p>, <p>Bragg said the jurors made a decision, leading them \"to a unanimous conclusion beyond a reasonable doubt that the defendant, Donald J. Trump, is guilty of 34 counts of falsifying business records in the first degree to conceal a scheme to corrupt the 2016 election.</p>, <p>\"While this defendant may be unlike any other in American history, we arrived at this trial and ultimately today at this verdict, in the same manner as every other case that comes to the courtroom doors by following the facts and the law and doing so without fear or favor,\" Bragg said. </p>, <p><span>Manhattan District Attorney Alvin Bragg speaks during a news conference on Thursday, March 7, 2024, in Manhattan, New York.</span> <span>(Barry Williams/New York Daily News/Tribune News Service via Getty Images)</span></p>, <p>Bragg defended himself, and said: \"I did my job. Our job is to follow the facts and the law without fear or favor. And that's exactly what we did here.\" </p>, <p>\"I did my job. We did our job. Many voices out there. The only voice that matters is the voice of the jury,\" he said. \"And the jury has spoken.\" </p>, <p>After the verdict, Trump's campaign website was updated to say he is \"a political prisoner.\" </p>, <p>Meanwhile, the Biden campaign reacted to the verdict, saying Trump \"has always mistakenly believed he would never face consequences for breaking the law for his own personal gain. But today’s verdict does not change the fact that the American people face a simple reality.\" </p>, <p>\"There is still only one way to keep Donald Trump out of the Oval Office: at the ballot box. Convicted felon or not, Trump will be the Republican nominee for president,\" Biden campaign spokesman Michael Tyler said. </p>, <p>Tyler added: \"The threat Trump posed to our democracy has never been greater.\"</p>, <p>And ex-Trump attorney Michael Cohen, the prosecution's \"star witness,\" celebrated the verdict. </p>, <p>\"Today is an important day for accountability and the rule of law,\" Cohen said in a statement to Fox News. \"While it has been a difficult journey for me and my family, the truth always matters.\" </p>, <p>Cohen also touted the conviction of Trump in a post to X, writing, \"Guilty On All Counts! #TeamCohen.\"</p>, <p><span>Donald Trump's former lawyer Michael Cohen's concluded his testimony in the NY v. Trump trial.</span> <span>(Getty Images)</span></p>, <p>During closing arguments this week, defense attorneys for former <a href=\"https://www.foxnews.com/politics/ny-v-trump-closing-arguments-begin-merchan-skirts-decision-motion-dismiss\" rel=\"noopener\" target=\"_blank\"><u>President Trump</u></a> told the jury he is innocent, did not commit any crimes and that Bragg \"did not meet the burden of proof. Period.\" </p>, <p>\"President Trump is innocent. He did not commit any crimes. The district attorney did not meet the burden of proof. Period,\" Blanche said. </p>, <p>Blanche added that the case is \"simple\" and it is \"not a guilty verdict.\" </p>, <p>\"This case is about documents; it is a paper case,\" Blanche said. \"This case is not about an encounter with Stormy Daniels 18 years ago. It is not even about a nondisclosure agreement signed eight years ago.\"</p>, <p>Blanche said the charges are about whether Trump \"had anything\" to do with payments to his ex-attorney, Michael Cohen, on his personal accounting ledger.</p>, <p>\"The answer? The bookings were accurate and there was no intent to defraud and there was no conspiracy to influence the 2016 election,\" Blanche said. \"The proof doesn’t add up.\"</p>, <p><a href=\"https://www.foxnews.com/politics/ny-v-trump-prosecution-says-have-presented-powerful-evidence-against-former-president\" rel=\"noopener\" target=\"_blank\"><strong><u>NY V TRUMP: PROSECUTION SAYS THEY HAVE PRESENTED 'POWERFUL EVIDENCE' AGAINST FORMER PRESIDENT</u></strong></a></p>, <p>Blanche told the jury they cannot convict Trump based on Cohen’s testimony, recalling how Trump’s ex-attorney \"took the stand and then lied.\"</p>, <p>\"The records are not false and there was no intent to defraud,\" he said.</p>, <p>Blanche said not one single invoice was sent to Trump directly and that Cohen billed Trump \"for services rendered.\" He also told the jury Cohen rendered services as Trump’s personal attorney in 2017.</p>, <p>Blanche noted Cohen had lied to both Houses of Congress, federal judges, state judges and family.</p>, <p>\"You cannot send someone to prison based upon the words of Michael Cohen,\" Blanche said, adding that a verdict needs to be reached based on evidence from documents and witnesses. \"If you do that, this is a very quick and easy not-guilty verdict.\" </p>, <p>Meanwhile, prosecutor Joshua Steinglass delivered his closing argument for more than five hours Tuesday, saying the prosecution has presented \"powerful\" evidence in their case against Trump. </p>, <p>Steinglass said Trump’s intent to defraud \"could not be any clearer,\" arguing that it would have been far easier for him to pay Stormy Daniels directly. Instead, the prosecutor said, he concocted an elaborate scheme and everything he and his cohorts did was \"cloaked in lies.\"</p>, <p>\"The name of the game was concealment and all roads lead inescapably to the man who benefited the most: the defendant, former President Donald Trump,\" Steinglass said.</p>, <p>Steinglass defended the prosecution's use of Michael Cohen as a witness, telling the jury: \"I’m not asking you to feel bad for Michael Cohen. He made his bed.\" </p>, <p>\"But you can hardly blame him for making money from the one thing he has left, which is his knowledge of the inner workings of the Trump Organization,\" he said. </p>, <p>\"We didn’t choose Michael Cohen to be our witness. We didn’t pick him up at the witness store,\" Steinglass said. \"The defendant chose Michael Cohen to be his fixer because he was willing to lie and cheat on the defendant’s behalf.\" </p>, <p>Trump defense attorneys, in their second attempt to dismiss the case earlier this month, said no evidence had been presented by the prosecution to connect the former president to any falsification of business records. Defense attorneys motioned for dismissal after Michael Cohen, Trump’s former attorney and the prosecution’s \"star witness,\" finished his testimony. </p>, <p><span>Former president Donald Trump waves while leaving Trump Tower on his way to Manhattan criminal court, Tuesday, May 21, 2024, in New York. </span> <span>(AP Photo/Julia Nikhinson)</span></p>, <p>He testified that he personally made the $130,000 payment to Daniels using a home equity line of credit in an effort to conceal the payment from his wife. Cohen said he did this because Trump told him to \"handle it\" and prevent a negative story from coming out ahead of the election.</p>, <p>But Trump’s defense attorneys maintained that the president never directed Cohen to do so.</p>, <p><span>Former U.S. President Donald Trump listens as defense lawyer Todd Blanche presents closing arguments duri</span> <span>(REUTERS/Jane Rosenberg )</span></p>, <p><a href=\"https://www.foxnews.com/apps-products?pid=AppArticleLink\" rel=\"noopener noreferrer\" target=\"_blank\"><strong>CLICK HERE TO GET THE FOX NEWS APP</strong></a></p>, <p>Cohen testified that he was \"reimbursed $420,000\" for the $130,000 he paid to Daniels. Cohen said former Trump Organization CFO Allen Weisselberg suggested he \"gross up\" the payments and that Trump knew the details of the reimbursement.</p>, <p>The prosecution presented Cohen with 11 checks totaling $420,000. Cohen confirmed that they were all received and deposited. The checks had a description of a \"retainer,\" which Cohen said was false.</p>, <p><i>This is a developing story. Please check back for updates. </i></p>, <p>Brooke Singman is a political correspondent and reporter for Fox News Digital, Fox News Channel and FOX Business.</p>, <p class=\"dek\">Get the latest updates from the 2024 campaign trail, exclusive interviews and more Fox News politics content.</p>, <p class=\"subscribed hide\">Subscribed</p>, <p class=\"success hide\">You've successfully subscribed to this newsletter!</p>, <p class=\"copyright\">\n",
            "        This material may not be published, broadcast, rewritten, or redistributed. ©2024 FOX News Network, LLC. All rights reserved. Quotes displayed in real-time or delayed by at least 15 minutes. Market data provided by\n",
            "        <a data-omtr-intcmp=\"footer_factset\" href=\"https://www.factset.com/\">Factset</a>. Powered and implemented by\n",
            "        <a data-omtr-intcmp=\"footer_factset_digital_solutions\" href=\"https://www.factset.com/solutions/business-needs/digital-solutions\">FactSet Digital Solutions</a>.\n",
            "        <a data-omtr-intcmp=\"footer_factset_privacy\" href=\"https://www.factset.com/privacy\">Legal Statement</a>. Mutual Fund and ETF data provided by\n",
            "        <a data-omtr-intcmp=\"footer_refinitive_info\" href=\"https://lipperalpha.refinitiv.com/\">Refinitiv Lipper</a>.\n",
            "      </p>]\n"
          ]
        }
      ]
    },
    {
      "cell_type": "markdown",
      "source": [
        "The following loop extracts the text and strips it from the preceding and following white spaces, leaving the text without unnecessary elements.\n",
        "\n"
      ],
      "metadata": {
        "id": "cVTx80q41n52"
      }
    },
    {
      "cell_type": "code",
      "source": [
        "only_text = []\n",
        "\n",
        "for el in content:\n",
        "  if len(el.getText().strip()) > 0:\n",
        "    only_text.append(el.getText())\n",
        "\n",
        "print(only_text)"
      ],
      "metadata": {
        "colab": {
          "base_uri": "https://localhost:8080/"
        },
        "id": "Eumoij5-imsR",
        "outputId": "b42a0c2c-31a4-42a6-fe42-47e9f2c81d87"
      },
      "execution_count": 117,
      "outputs": [
        {
          "output_type": "stream",
          "name": "stdout",
          "text": [
            "['\\n      This material may not be published, broadcast, rewritten,\\n      or redistributed. ©2024 FOX News Network, LLC. All rights reserved.\\n      Quotes displayed in real-time or delayed by at least 15 minutes. Market data provided by\\n      Factset. Powered and implemented by\\n      FactSet Digital Solutions.\\n      Legal Statement. Mutual Fund and ETF data provided by\\n      Refinitiv Lipper.\\n    ', 'Former President Trump speaks outside the NYC courtroom ahead of closing arguments in his criminal trial.', 'Former President Trump was found guilty on all counts in his historic and unprecedented criminal trial, making him the first former president of the United States to be convicted of a crime.\\xa0', 'Manhattan District Attorney Alvin Bragg charged former President Donald Trump with 34 counts of falsifying business records in the first degree.', 'Trump pleaded not guilty to all counts.', 'Jurors found the former president guilty on all counts.', 'LIVE UPDATES: TRUMP VERDICT\\xa0', 'Each count carries a maximum prison sentence of 4 years. In total, Trump faces a maximum sentence of 136 years.\\xa0', 'Judge Juan Merchan invited the jury into the courtroom to read its verdict after two days of deliberations.\\xa0', 'Former president Donald Trump awaits the start of proceedings at Manhattan criminal court, Monday, April 22, 2024, in New York.\\xa0 (AP Photo/Yuki Iwamura, Pool)', 'Sentencing for the former president will be July 11 at 10:00 a.m--just four days before the start of the Republican National Convention, where he is expected to be formally nominated as the 2024 Republican presidential nominee. The convention is July 15- 18 in Milwaukee.\\xa0', 'Any motions will need to be filed by June 13th.', 'The conviction does not bar Trump from running for president.\\xa0', 'Prosecutors needed to prove beyond a reasonable doubt that Trump falsified those records to conceal a $130,000 payment to Stormy Daniels, a pornographic performer, in the lead-up to the 2016 election to silence her about an alleged affair with Trump in 2006.', \"TRUMP PREVIEWS CLOSING ARGUMENTS IN 'SHAM TRIAL': 'VERY DANGEROUS DAY FOR AMERICA'\", 'Moments after the verdict was delivered by the jury, the former president spoke to reporters in the hallway outside the courtroom.\\xa0', '\"This was a disgrace. This was a rigged trial by a conflicted judge who was corrupt as a rigged trial and disgrace. It wouldn\\'t give us a venue change,\" Trump said. \"We were at five percent or 6% in this district, in this area. This was a rigged, disgraceful trial.\"\\xa0', 'Trump said \"the real verdict is going to be November 5th by the people.\"\\xa0', '\"And they know what happened here and everybody knows what happened here,\" Trump said. \"You have a Soros backed DA and the whole thing.\"\\xa0', 'He added: \"We didn\\'t do anything wrong. I\\'m a very innocent man. And it\\'s okay. I\\'m fighting for our country. I\\'m fighting for our Constitution. Our whole country is being rigged right now.\"\\xa0', 'Trump said that the case was \"done by the Biden administration in order to wound or hurt an opponent, a political opponent.\"\\xa0', '\"And I think it\\'s it\\'s just a disgrace. And we\\'ll keep fighting--we\\'ll fight till the end and we\\'ll win because our country\\'s gone to hell,\" he said. \"We don\\'t have the same country anymore. We have a divided mess. We\\'re a nation of decline, serious decline.\"\\xa0', 'Trump said \"millions and millions of people pouring into our country right now from prisons and from mental institutions, terrorists. And they\\'re taking over our country. We have a country that\\'s in big trouble.\"\\xa0', '\"But this was a rigged decision right from day one, with a conflicted judge who should have never been allowed to try this case. Never,\" he said. \"And we will fight for our Constitution. This is long from over.\"\\xa0', 'Manhattan District Attorney Alvin Bragg held a press conference Thursday evening, and thanked the jury for its service.\\xa0', '\"We should all be thankful for the careful attention that this jury paid to the evidence and the law in their time and commitment,\" he said. \"Over these past several weeks. 12 everyday New Yorkers and of course, our alternates heard testimony from 22 witnesses, including former and current employees of the defendant, media executives, book publishers, custodians of records and others. Their review, call logs, text messages and emails. They heard recordings. They saw checks and invoices, bank statements and calendar appointments.\\xa0', 'He added: \"This type of white collar prosecution is core to what we do at the Manhattan District Attorney\\'s office.\"', 'Bragg said the jurors made a decision, leading them \"to a unanimous conclusion beyond a reasonable doubt that the defendant, Donald J. Trump, is guilty of 34 counts of falsifying business records in the first degree to conceal a scheme to corrupt the 2016 election.', '\"While this defendant may be unlike any other in American history, we arrived at this trial and ultimately today at this verdict, in the same manner as every other case that comes to the courtroom doors by following the facts and the law and doing so without fear or favor,\" Bragg said.\\xa0', 'Manhattan District Attorney Alvin Bragg speaks during a news conference on Thursday, March 7, 2024, in Manhattan, New York. (Barry Williams/New York Daily News/Tribune News Service via Getty Images)', 'Bragg defended himself, and said: \"I did my job. Our job is to follow the facts and the law without fear or favor. And that\\'s exactly what we did here.\"\\xa0', '\"I did my job. We did our job. Many voices out there. The only voice that matters is the voice of the jury,\" he said. \"And the jury has spoken.\"\\xa0', 'After the verdict, Trump\\'s campaign website was updated to say he is \"a political prisoner.\"\\xa0', 'Meanwhile, the Biden campaign reacted to the verdict, saying Trump \"has always mistakenly believed he would never face consequences for breaking the law for his own personal gain. But today’s verdict does not change the fact that the American people face a simple reality.\"\\xa0', '\"There is still only one way to keep Donald Trump out of the Oval Office: at the ballot box. Convicted felon or not, Trump will be the Republican nominee for president,\" Biden campaign spokesman Michael Tyler said.\\xa0', 'Tyler added: \"The threat Trump posed to our democracy has never been greater.\"', 'And ex-Trump attorney Michael Cohen, the prosecution\\'s \"star witness,\" celebrated the verdict.\\xa0', '\"Today is an important day for accountability and the rule of law,\" Cohen said in a statement to Fox News. \"While it has been a difficult journey for me and my family, the truth always matters.\"\\xa0', 'Cohen also touted the conviction of Trump in a post to X, writing, \"Guilty On All Counts! #TeamCohen.\"', \"Donald Trump's former lawyer Michael Cohen's concluded his testimony in the NY v. Trump trial. (Getty Images)\", 'During closing arguments this week, defense attorneys for former President Trump told the jury he is innocent, did not commit any crimes and that Bragg \"did not meet the burden of proof. Period.\"\\xa0', '\"President Trump is innocent. He did not commit any crimes. The district attorney did not meet the burden of proof. Period,\" Blanche said.\\xa0', 'Blanche added that the case is \"simple\" and it is \"not a guilty verdict.\"\\xa0', '\"This case is about documents; it is a paper case,\" Blanche said. \"This case is not about an encounter with Stormy Daniels 18 years ago. It is not even about a nondisclosure agreement signed eight years ago.\"', 'Blanche said the charges are about whether Trump \"had anything\" to do with payments to his ex-attorney, Michael Cohen, on his personal accounting ledger.', '\"The answer? The bookings were accurate and there was no intent to defraud and there was no conspiracy to influence the 2016 election,\" Blanche said. \"The proof doesn’t add up.\"', \"NY V TRUMP: PROSECUTION SAYS THEY HAVE PRESENTED 'POWERFUL EVIDENCE' AGAINST FORMER PRESIDENT\", 'Blanche told the jury they cannot convict Trump based on Cohen’s testimony, recalling how Trump’s ex-attorney \"took the stand and then lied.\"', '\"The records are not false and there was no intent to defraud,\" he said.', 'Blanche said not one single invoice was sent to Trump directly and that Cohen billed Trump \"for services rendered.\"\\xa0He also told the jury Cohen rendered services as Trump’s personal attorney in 2017.', 'Blanche noted Cohen had lied to both Houses of Congress, federal judges, state judges and family.', '\"You cannot send someone to prison based upon the words of Michael Cohen,\" Blanche said, adding that a verdict needs to be reached based on evidence from documents and witnesses. \"If you do that, this is a very quick and easy not-guilty verdict.\"\\xa0', 'Meanwhile, prosecutor Joshua Steinglass delivered his closing argument for more than five hours Tuesday, saying the prosecution has presented \"powerful\" evidence in their case against Trump.\\xa0', 'Steinglass said Trump’s intent to defraud \"could not be any clearer,\" arguing that it would have been far easier for him to pay Stormy Daniels directly. Instead, the prosecutor said, he concocted an elaborate scheme and everything he and his cohorts did was \"cloaked in lies.\"', '\"The name of the game was concealment and all roads lead inescapably to the man who benefited the most: the defendant, former President Donald Trump,\" Steinglass said.', 'Steinglass defended the prosecution\\'s use of Michael Cohen as a witness, telling the jury: \"I’m not asking you to feel bad for Michael Cohen. He made his bed.\"\\xa0', '\"But you can hardly blame him for making money from the one thing he has left, which is his knowledge of the inner workings of the Trump Organization,\" he said.\\xa0', '\"We didn’t choose Michael Cohen to be our witness. We didn’t pick him up at the witness store,\" Steinglass said. \"The defendant chose Michael Cohen to be his fixer because he was willing to lie and cheat on the defendant’s behalf.\"\\xa0', 'Trump defense attorneys, in their second attempt to dismiss the case earlier this month, said no evidence had been presented by the prosecution to connect the former president to any falsification of business records. Defense attorneys motioned for dismissal after Michael Cohen, Trump’s former attorney and the prosecution’s \"star witness,\" finished his testimony.\\xa0', 'Former president Donald Trump waves while leaving Trump Tower on his way to Manhattan criminal court, Tuesday, May 21, 2024, in New York.\\xa0 (AP Photo/Julia Nikhinson)', 'He testified that he personally made the $130,000 payment to Daniels using a home equity line of credit in an effort to conceal the payment from his wife. Cohen said he did this because Trump told him to \"handle it\" and prevent a negative story from coming out ahead of the election.', 'But Trump’s defense attorneys maintained that the president never directed Cohen to do so.', 'Former U.S. President Donald Trump listens as defense lawyer Todd Blanche presents closing arguments duri (REUTERS/Jane Rosenberg\\xa0)', 'CLICK HERE TO GET THE FOX NEWS APP', 'Cohen testified that he was \"reimbursed $420,000\" for the $130,000 he paid to Daniels. Cohen said former Trump Organization CFO Allen Weisselberg suggested he \"gross up\" the payments and that Trump knew the details of the reimbursement.', 'The prosecution presented Cohen with 11 checks totaling $420,000. Cohen confirmed that they were all received and deposited. The checks had a description of a \"retainer,\" which Cohen said was false.', 'This is a developing story. Please check back for updates.\\xa0', 'Brooke Singman is a political correspondent and reporter for Fox News Digital, Fox News Channel and FOX Business.', 'Get the latest updates from the 2024 campaign trail, exclusive interviews and more Fox News politics content.', 'Subscribed', \"You've successfully subscribed to this newsletter!\", '\\n        This material may not be published, broadcast, rewritten, or redistributed. ©2024 FOX News Network, LLC. All rights reserved. Quotes displayed in real-time or delayed by at least 15 minutes. Market data provided by\\n        Factset. Powered and implemented by\\n        FactSet Digital Solutions.\\n        Legal Statement. Mutual Fund and ETF data provided by\\n        Refinitiv Lipper.\\n      ']\n"
          ]
        }
      ]
    },
    {
      "cell_type": "markdown",
      "source": [
        "This line of code takes the list *only_text*, converts each element of the list to a string (if they are not already strings), and then concatenates them into a single string without any separator between them.\n",
        "\n",
        "Next, the nltk library's tokenization function splits the string into individual tokens (words)."
      ],
      "metadata": {
        "id": "a8fhCEJQ3iG7"
      }
    },
    {
      "cell_type": "code",
      "source": [
        "import nltk\n",
        "nltk.download(\"all\")"
      ],
      "metadata": {
        "colab": {
          "base_uri": "https://localhost:8080/"
        },
        "collapsed": true,
        "id": "hJ4D73KojAGZ",
        "outputId": "4203e18a-1871-4c6b-c2db-178f095d6e0d"
      },
      "execution_count": 65,
      "outputs": [
        {
          "output_type": "stream",
          "name": "stderr",
          "text": [
            "[nltk_data] Downloading collection 'all'\n",
            "[nltk_data]    | \n",
            "[nltk_data]    | Downloading package abc to /root/nltk_data...\n",
            "[nltk_data]    |   Package abc is already up-to-date!\n",
            "[nltk_data]    | Downloading package alpino to /root/nltk_data...\n",
            "[nltk_data]    |   Package alpino is already up-to-date!\n",
            "[nltk_data]    | Downloading package averaged_perceptron_tagger to\n",
            "[nltk_data]    |     /root/nltk_data...\n",
            "[nltk_data]    |   Package averaged_perceptron_tagger is already up-\n",
            "[nltk_data]    |       to-date!\n",
            "[nltk_data]    | Downloading package averaged_perceptron_tagger_ru to\n",
            "[nltk_data]    |     /root/nltk_data...\n",
            "[nltk_data]    |   Package averaged_perceptron_tagger_ru is already\n",
            "[nltk_data]    |       up-to-date!\n",
            "[nltk_data]    | Downloading package basque_grammars to\n",
            "[nltk_data]    |     /root/nltk_data...\n",
            "[nltk_data]    |   Package basque_grammars is already up-to-date!\n",
            "[nltk_data]    | Downloading package bcp47 to /root/nltk_data...\n",
            "[nltk_data]    |   Package bcp47 is already up-to-date!\n",
            "[nltk_data]    | Downloading package biocreative_ppi to\n",
            "[nltk_data]    |     /root/nltk_data...\n",
            "[nltk_data]    |   Package biocreative_ppi is already up-to-date!\n",
            "[nltk_data]    | Downloading package bllip_wsj_no_aux to\n",
            "[nltk_data]    |     /root/nltk_data...\n",
            "[nltk_data]    |   Package bllip_wsj_no_aux is already up-to-date!\n",
            "[nltk_data]    | Downloading package book_grammars to\n",
            "[nltk_data]    |     /root/nltk_data...\n",
            "[nltk_data]    |   Package book_grammars is already up-to-date!\n",
            "[nltk_data]    | Downloading package brown to /root/nltk_data...\n",
            "[nltk_data]    |   Package brown is already up-to-date!\n",
            "[nltk_data]    | Downloading package brown_tei to /root/nltk_data...\n",
            "[nltk_data]    |   Package brown_tei is already up-to-date!\n",
            "[nltk_data]    | Downloading package cess_cat to /root/nltk_data...\n",
            "[nltk_data]    |   Package cess_cat is already up-to-date!\n",
            "[nltk_data]    | Downloading package cess_esp to /root/nltk_data...\n",
            "[nltk_data]    |   Package cess_esp is already up-to-date!\n",
            "[nltk_data]    | Downloading package chat80 to /root/nltk_data...\n",
            "[nltk_data]    |   Package chat80 is already up-to-date!\n",
            "[nltk_data]    | Downloading package city_database to\n",
            "[nltk_data]    |     /root/nltk_data...\n",
            "[nltk_data]    |   Package city_database is already up-to-date!\n",
            "[nltk_data]    | Downloading package cmudict to /root/nltk_data...\n",
            "[nltk_data]    |   Package cmudict is already up-to-date!\n",
            "[nltk_data]    | Downloading package comparative_sentences to\n",
            "[nltk_data]    |     /root/nltk_data...\n",
            "[nltk_data]    |   Package comparative_sentences is already up-to-\n",
            "[nltk_data]    |       date!\n",
            "[nltk_data]    | Downloading package comtrans to /root/nltk_data...\n",
            "[nltk_data]    |   Package comtrans is already up-to-date!\n",
            "[nltk_data]    | Downloading package conll2000 to /root/nltk_data...\n",
            "[nltk_data]    |   Package conll2000 is already up-to-date!\n",
            "[nltk_data]    | Downloading package conll2002 to /root/nltk_data...\n",
            "[nltk_data]    |   Package conll2002 is already up-to-date!\n",
            "[nltk_data]    | Downloading package conll2007 to /root/nltk_data...\n",
            "[nltk_data]    |   Package conll2007 is already up-to-date!\n",
            "[nltk_data]    | Downloading package crubadan to /root/nltk_data...\n",
            "[nltk_data]    |   Package crubadan is already up-to-date!\n",
            "[nltk_data]    | Downloading package dependency_treebank to\n",
            "[nltk_data]    |     /root/nltk_data...\n",
            "[nltk_data]    |   Package dependency_treebank is already up-to-date!\n",
            "[nltk_data]    | Downloading package dolch to /root/nltk_data...\n",
            "[nltk_data]    |   Package dolch is already up-to-date!\n",
            "[nltk_data]    | Downloading package europarl_raw to\n",
            "[nltk_data]    |     /root/nltk_data...\n",
            "[nltk_data]    |   Package europarl_raw is already up-to-date!\n",
            "[nltk_data]    | Downloading package extended_omw to\n",
            "[nltk_data]    |     /root/nltk_data...\n",
            "[nltk_data]    |   Package extended_omw is already up-to-date!\n",
            "[nltk_data]    | Downloading package floresta to /root/nltk_data...\n",
            "[nltk_data]    |   Package floresta is already up-to-date!\n",
            "[nltk_data]    | Downloading package framenet_v15 to\n",
            "[nltk_data]    |     /root/nltk_data...\n",
            "[nltk_data]    |   Package framenet_v15 is already up-to-date!\n",
            "[nltk_data]    | Downloading package framenet_v17 to\n",
            "[nltk_data]    |     /root/nltk_data...\n",
            "[nltk_data]    |   Package framenet_v17 is already up-to-date!\n",
            "[nltk_data]    | Downloading package gazetteers to /root/nltk_data...\n",
            "[nltk_data]    |   Package gazetteers is already up-to-date!\n",
            "[nltk_data]    | Downloading package genesis to /root/nltk_data...\n",
            "[nltk_data]    |   Package genesis is already up-to-date!\n",
            "[nltk_data]    | Downloading package gutenberg to /root/nltk_data...\n",
            "[nltk_data]    |   Package gutenberg is already up-to-date!\n",
            "[nltk_data]    | Downloading package ieer to /root/nltk_data...\n",
            "[nltk_data]    |   Package ieer is already up-to-date!\n",
            "[nltk_data]    | Downloading package inaugural to /root/nltk_data...\n",
            "[nltk_data]    |   Package inaugural is already up-to-date!\n",
            "[nltk_data]    | Downloading package indian to /root/nltk_data...\n",
            "[nltk_data]    |   Package indian is already up-to-date!\n",
            "[nltk_data]    | Downloading package jeita to /root/nltk_data...\n",
            "[nltk_data]    |   Package jeita is already up-to-date!\n",
            "[nltk_data]    | Downloading package kimmo to /root/nltk_data...\n",
            "[nltk_data]    |   Package kimmo is already up-to-date!\n",
            "[nltk_data]    | Downloading package knbc to /root/nltk_data...\n",
            "[nltk_data]    |   Package knbc is already up-to-date!\n",
            "[nltk_data]    | Downloading package large_grammars to\n",
            "[nltk_data]    |     /root/nltk_data...\n",
            "[nltk_data]    |   Package large_grammars is already up-to-date!\n",
            "[nltk_data]    | Downloading package lin_thesaurus to\n",
            "[nltk_data]    |     /root/nltk_data...\n",
            "[nltk_data]    |   Package lin_thesaurus is already up-to-date!\n",
            "[nltk_data]    | Downloading package mac_morpho to /root/nltk_data...\n",
            "[nltk_data]    |   Package mac_morpho is already up-to-date!\n",
            "[nltk_data]    | Downloading package machado to /root/nltk_data...\n",
            "[nltk_data]    |   Package machado is already up-to-date!\n",
            "[nltk_data]    | Downloading package masc_tagged to /root/nltk_data...\n",
            "[nltk_data]    |   Package masc_tagged is already up-to-date!\n",
            "[nltk_data]    | Downloading package maxent_ne_chunker to\n",
            "[nltk_data]    |     /root/nltk_data...\n",
            "[nltk_data]    |   Package maxent_ne_chunker is already up-to-date!\n",
            "[nltk_data]    | Downloading package maxent_treebank_pos_tagger to\n",
            "[nltk_data]    |     /root/nltk_data...\n",
            "[nltk_data]    |   Package maxent_treebank_pos_tagger is already up-\n",
            "[nltk_data]    |       to-date!\n",
            "[nltk_data]    | Downloading package moses_sample to\n",
            "[nltk_data]    |     /root/nltk_data...\n",
            "[nltk_data]    |   Package moses_sample is already up-to-date!\n",
            "[nltk_data]    | Downloading package movie_reviews to\n",
            "[nltk_data]    |     /root/nltk_data...\n",
            "[nltk_data]    |   Package movie_reviews is already up-to-date!\n",
            "[nltk_data]    | Downloading package mte_teip5 to /root/nltk_data...\n",
            "[nltk_data]    |   Package mte_teip5 is already up-to-date!\n",
            "[nltk_data]    | Downloading package mwa_ppdb to /root/nltk_data...\n",
            "[nltk_data]    |   Package mwa_ppdb is already up-to-date!\n",
            "[nltk_data]    | Downloading package names to /root/nltk_data...\n",
            "[nltk_data]    |   Package names is already up-to-date!\n",
            "[nltk_data]    | Downloading package nombank.1.0 to /root/nltk_data...\n",
            "[nltk_data]    |   Package nombank.1.0 is already up-to-date!\n",
            "[nltk_data]    | Downloading package nonbreaking_prefixes to\n",
            "[nltk_data]    |     /root/nltk_data...\n",
            "[nltk_data]    |   Package nonbreaking_prefixes is already up-to-date!\n",
            "[nltk_data]    | Downloading package nps_chat to /root/nltk_data...\n",
            "[nltk_data]    |   Package nps_chat is already up-to-date!\n",
            "[nltk_data]    | Downloading package omw to /root/nltk_data...\n",
            "[nltk_data]    |   Package omw is already up-to-date!\n",
            "[nltk_data]    | Downloading package omw-1.4 to /root/nltk_data...\n",
            "[nltk_data]    |   Package omw-1.4 is already up-to-date!\n",
            "[nltk_data]    | Downloading package opinion_lexicon to\n",
            "[nltk_data]    |     /root/nltk_data...\n",
            "[nltk_data]    |   Package opinion_lexicon is already up-to-date!\n",
            "[nltk_data]    | Downloading package panlex_swadesh to\n",
            "[nltk_data]    |     /root/nltk_data...\n",
            "[nltk_data]    |   Package panlex_swadesh is already up-to-date!\n",
            "[nltk_data]    | Downloading package paradigms to /root/nltk_data...\n",
            "[nltk_data]    |   Package paradigms is already up-to-date!\n",
            "[nltk_data]    | Downloading package pe08 to /root/nltk_data...\n",
            "[nltk_data]    |   Package pe08 is already up-to-date!\n",
            "[nltk_data]    | Downloading package perluniprops to\n",
            "[nltk_data]    |     /root/nltk_data...\n",
            "[nltk_data]    |   Package perluniprops is already up-to-date!\n",
            "[nltk_data]    | Downloading package pil to /root/nltk_data...\n",
            "[nltk_data]    |   Package pil is already up-to-date!\n",
            "[nltk_data]    | Downloading package pl196x to /root/nltk_data...\n",
            "[nltk_data]    |   Package pl196x is already up-to-date!\n",
            "[nltk_data]    | Downloading package porter_test to /root/nltk_data...\n",
            "[nltk_data]    |   Package porter_test is already up-to-date!\n",
            "[nltk_data]    | Downloading package ppattach to /root/nltk_data...\n",
            "[nltk_data]    |   Package ppattach is already up-to-date!\n",
            "[nltk_data]    | Downloading package problem_reports to\n",
            "[nltk_data]    |     /root/nltk_data...\n",
            "[nltk_data]    |   Package problem_reports is already up-to-date!\n",
            "[nltk_data]    | Downloading package product_reviews_1 to\n",
            "[nltk_data]    |     /root/nltk_data...\n",
            "[nltk_data]    |   Package product_reviews_1 is already up-to-date!\n",
            "[nltk_data]    | Downloading package product_reviews_2 to\n",
            "[nltk_data]    |     /root/nltk_data...\n",
            "[nltk_data]    |   Package product_reviews_2 is already up-to-date!\n",
            "[nltk_data]    | Downloading package propbank to /root/nltk_data...\n",
            "[nltk_data]    |   Package propbank is already up-to-date!\n",
            "[nltk_data]    | Downloading package pros_cons to /root/nltk_data...\n",
            "[nltk_data]    |   Package pros_cons is already up-to-date!\n",
            "[nltk_data]    | Downloading package ptb to /root/nltk_data...\n",
            "[nltk_data]    |   Package ptb is already up-to-date!\n",
            "[nltk_data]    | Downloading package punkt to /root/nltk_data...\n",
            "[nltk_data]    |   Package punkt is already up-to-date!\n",
            "[nltk_data]    | Downloading package qc to /root/nltk_data...\n",
            "[nltk_data]    |   Package qc is already up-to-date!\n",
            "[nltk_data]    | Downloading package reuters to /root/nltk_data...\n",
            "[nltk_data]    |   Package reuters is already up-to-date!\n",
            "[nltk_data]    | Downloading package rslp to /root/nltk_data...\n",
            "[nltk_data]    |   Package rslp is already up-to-date!\n",
            "[nltk_data]    | Downloading package rte to /root/nltk_data...\n",
            "[nltk_data]    |   Package rte is already up-to-date!\n",
            "[nltk_data]    | Downloading package sample_grammars to\n",
            "[nltk_data]    |     /root/nltk_data...\n",
            "[nltk_data]    |   Package sample_grammars is already up-to-date!\n",
            "[nltk_data]    | Downloading package semcor to /root/nltk_data...\n",
            "[nltk_data]    |   Package semcor is already up-to-date!\n",
            "[nltk_data]    | Downloading package senseval to /root/nltk_data...\n",
            "[nltk_data]    |   Package senseval is already up-to-date!\n",
            "[nltk_data]    | Downloading package sentence_polarity to\n",
            "[nltk_data]    |     /root/nltk_data...\n",
            "[nltk_data]    |   Package sentence_polarity is already up-to-date!\n",
            "[nltk_data]    | Downloading package sentiwordnet to\n",
            "[nltk_data]    |     /root/nltk_data...\n",
            "[nltk_data]    |   Package sentiwordnet is already up-to-date!\n",
            "[nltk_data]    | Downloading package shakespeare to /root/nltk_data...\n",
            "[nltk_data]    |   Package shakespeare is already up-to-date!\n",
            "[nltk_data]    | Downloading package sinica_treebank to\n",
            "[nltk_data]    |     /root/nltk_data...\n",
            "[nltk_data]    |   Package sinica_treebank is already up-to-date!\n",
            "[nltk_data]    | Downloading package smultron to /root/nltk_data...\n",
            "[nltk_data]    |   Package smultron is already up-to-date!\n",
            "[nltk_data]    | Downloading package snowball_data to\n",
            "[nltk_data]    |     /root/nltk_data...\n",
            "[nltk_data]    |   Package snowball_data is already up-to-date!\n",
            "[nltk_data]    | Downloading package spanish_grammars to\n",
            "[nltk_data]    |     /root/nltk_data...\n",
            "[nltk_data]    |   Package spanish_grammars is already up-to-date!\n",
            "[nltk_data]    | Downloading package state_union to /root/nltk_data...\n",
            "[nltk_data]    |   Package state_union is already up-to-date!\n",
            "[nltk_data]    | Downloading package stopwords to /root/nltk_data...\n",
            "[nltk_data]    |   Package stopwords is already up-to-date!\n",
            "[nltk_data]    | Downloading package subjectivity to\n",
            "[nltk_data]    |     /root/nltk_data...\n",
            "[nltk_data]    |   Package subjectivity is already up-to-date!\n",
            "[nltk_data]    | Downloading package swadesh to /root/nltk_data...\n",
            "[nltk_data]    |   Package swadesh is already up-to-date!\n",
            "[nltk_data]    | Downloading package switchboard to /root/nltk_data...\n",
            "[nltk_data]    |   Package switchboard is already up-to-date!\n",
            "[nltk_data]    | Downloading package tagsets to /root/nltk_data...\n",
            "[nltk_data]    |   Package tagsets is already up-to-date!\n",
            "[nltk_data]    | Downloading package timit to /root/nltk_data...\n",
            "[nltk_data]    |   Package timit is already up-to-date!\n",
            "[nltk_data]    | Downloading package toolbox to /root/nltk_data...\n",
            "[nltk_data]    |   Package toolbox is already up-to-date!\n",
            "[nltk_data]    | Downloading package treebank to /root/nltk_data...\n",
            "[nltk_data]    |   Package treebank is already up-to-date!\n",
            "[nltk_data]    | Downloading package twitter_samples to\n",
            "[nltk_data]    |     /root/nltk_data...\n",
            "[nltk_data]    |   Package twitter_samples is already up-to-date!\n",
            "[nltk_data]    | Downloading package udhr to /root/nltk_data...\n",
            "[nltk_data]    |   Package udhr is already up-to-date!\n",
            "[nltk_data]    | Downloading package udhr2 to /root/nltk_data...\n",
            "[nltk_data]    |   Package udhr2 is already up-to-date!\n",
            "[nltk_data]    | Downloading package unicode_samples to\n",
            "[nltk_data]    |     /root/nltk_data...\n",
            "[nltk_data]    |   Package unicode_samples is already up-to-date!\n",
            "[nltk_data]    | Downloading package universal_tagset to\n",
            "[nltk_data]    |     /root/nltk_data...\n",
            "[nltk_data]    |   Package universal_tagset is already up-to-date!\n",
            "[nltk_data]    | Downloading package universal_treebanks_v20 to\n",
            "[nltk_data]    |     /root/nltk_data...\n",
            "[nltk_data]    |   Package universal_treebanks_v20 is already up-to-\n",
            "[nltk_data]    |       date!\n",
            "[nltk_data]    | Downloading package vader_lexicon to\n",
            "[nltk_data]    |     /root/nltk_data...\n",
            "[nltk_data]    |   Package vader_lexicon is already up-to-date!\n",
            "[nltk_data]    | Downloading package verbnet to /root/nltk_data...\n",
            "[nltk_data]    |   Package verbnet is already up-to-date!\n",
            "[nltk_data]    | Downloading package verbnet3 to /root/nltk_data...\n",
            "[nltk_data]    |   Package verbnet3 is already up-to-date!\n",
            "[nltk_data]    | Downloading package webtext to /root/nltk_data...\n",
            "[nltk_data]    |   Package webtext is already up-to-date!\n",
            "[nltk_data]    | Downloading package wmt15_eval to /root/nltk_data...\n",
            "[nltk_data]    |   Package wmt15_eval is already up-to-date!\n",
            "[nltk_data]    | Downloading package word2vec_sample to\n",
            "[nltk_data]    |     /root/nltk_data...\n",
            "[nltk_data]    |   Package word2vec_sample is already up-to-date!\n",
            "[nltk_data]    | Downloading package wordnet to /root/nltk_data...\n",
            "[nltk_data]    |   Package wordnet is already up-to-date!\n",
            "[nltk_data]    | Downloading package wordnet2021 to /root/nltk_data...\n",
            "[nltk_data]    |   Package wordnet2021 is already up-to-date!\n",
            "[nltk_data]    | Downloading package wordnet2022 to /root/nltk_data...\n",
            "[nltk_data]    |   Package wordnet2022 is already up-to-date!\n",
            "[nltk_data]    | Downloading package wordnet31 to /root/nltk_data...\n",
            "[nltk_data]    |   Package wordnet31 is already up-to-date!\n",
            "[nltk_data]    | Downloading package wordnet_ic to /root/nltk_data...\n",
            "[nltk_data]    |   Package wordnet_ic is already up-to-date!\n",
            "[nltk_data]    | Downloading package words to /root/nltk_data...\n",
            "[nltk_data]    |   Package words is already up-to-date!\n",
            "[nltk_data]    | Downloading package ycoe to /root/nltk_data...\n",
            "[nltk_data]    |   Package ycoe is already up-to-date!\n",
            "[nltk_data]    | \n",
            "[nltk_data]  Done downloading collection all\n"
          ]
        },
        {
          "output_type": "execute_result",
          "data": {
            "text/plain": [
              "True"
            ]
          },
          "metadata": {},
          "execution_count": 65
        }
      ]
    },
    {
      "cell_type": "code",
      "source": [
        "joined_text = ''.join(map(str,only_text))\n",
        "tokenized_text = nltk.word_tokenize(joined_text)\n",
        "print(tokenized_text)"
      ],
      "metadata": {
        "collapsed": true,
        "id": "LX2wBkiWjSxX",
        "colab": {
          "base_uri": "https://localhost:8080/"
        },
        "outputId": "864e74f5-d5f6-40c2-d1b4-32ca71445252"
      },
      "execution_count": 118,
      "outputs": [
        {
          "output_type": "stream",
          "name": "stdout",
          "text": [
            "['This', 'material', 'may', 'not', 'be', 'published', ',', 'broadcast', ',', 'rewritten', ',', 'or', 'redistributed', '.', '©2024', 'FOX', 'News', 'Network', ',', 'LLC', '.', 'All', 'rights', 'reserved', '.', 'Quotes', 'displayed', 'in', 'real-time', 'or', 'delayed', 'by', 'at', 'least', '15', 'minutes', '.', 'Market', 'data', 'provided', 'by', 'Factset', '.', 'Powered', 'and', 'implemented', 'by', 'FactSet', 'Digital', 'Solutions', '.', 'Legal', 'Statement', '.', 'Mutual', 'Fund', 'and', 'ETF', 'data', 'provided', 'by', 'Refinitiv', 'Lipper', '.', 'Former', 'President', 'Trump', 'speaks', 'outside', 'the', 'NYC', 'courtroom', 'ahead', 'of', 'closing', 'arguments', 'in', 'his', 'criminal', 'trial.Former', 'President', 'Trump', 'was', 'found', 'guilty', 'on', 'all', 'counts', 'in', 'his', 'historic', 'and', 'unprecedented', 'criminal', 'trial', ',', 'making', 'him', 'the', 'first', 'former', 'president', 'of', 'the', 'United', 'States', 'to', 'be', 'convicted', 'of', 'a', 'crime', '.', 'Manhattan', 'District', 'Attorney', 'Alvin', 'Bragg', 'charged', 'former', 'President', 'Donald', 'Trump', 'with', '34', 'counts', 'of', 'falsifying', 'business', 'records', 'in', 'the', 'first', 'degree.Trump', 'pleaded', 'not', 'guilty', 'to', 'all', 'counts.Jurors', 'found', 'the', 'former', 'president', 'guilty', 'on', 'all', 'counts.LIVE', 'UPDATES', ':', 'TRUMP', 'VERDICT', 'Each', 'count', 'carries', 'a', 'maximum', 'prison', 'sentence', 'of', '4', 'years', '.', 'In', 'total', ',', 'Trump', 'faces', 'a', 'maximum', 'sentence', 'of', '136', 'years', '.', 'Judge', 'Juan', 'Merchan', 'invited', 'the', 'jury', 'into', 'the', 'courtroom', 'to', 'read', 'its', 'verdict', 'after', 'two', 'days', 'of', 'deliberations', '.', 'Former', 'president', 'Donald', 'Trump', 'awaits', 'the', 'start', 'of', 'proceedings', 'at', 'Manhattan', 'criminal', 'court', ',', 'Monday', ',', 'April', '22', ',', '2024', ',', 'in', 'New', 'York', '.', '(', 'AP', 'Photo/Yuki', 'Iwamura', ',', 'Pool', ')', 'Sentencing', 'for', 'the', 'former', 'president', 'will', 'be', 'July', '11', 'at', '10:00', 'a.m', '--', 'just', 'four', 'days', 'before', 'the', 'start', 'of', 'the', 'Republican', 'National', 'Convention', ',', 'where', 'he', 'is', 'expected', 'to', 'be', 'formally', 'nominated', 'as', 'the', '2024', 'Republican', 'presidential', 'nominee', '.', 'The', 'convention', 'is', 'July', '15-', '18', 'in', 'Milwaukee', '.', 'Any', 'motions', 'will', 'need', 'to', 'be', 'filed', 'by', 'June', '13th.The', 'conviction', 'does', 'not', 'bar', 'Trump', 'from', 'running', 'for', 'president', '.', 'Prosecutors', 'needed', 'to', 'prove', 'beyond', 'a', 'reasonable', 'doubt', 'that', 'Trump', 'falsified', 'those', 'records', 'to', 'conceal', 'a', '$', '130,000', 'payment', 'to', 'Stormy', 'Daniels', ',', 'a', 'pornographic', 'performer', ',', 'in', 'the', 'lead-up', 'to', 'the', '2016', 'election', 'to', 'silence', 'her', 'about', 'an', 'alleged', 'affair', 'with', 'Trump', 'in', '2006.TRUMP', 'PREVIEWS', 'CLOSING', 'ARGUMENTS', 'IN', \"'SHAM\", 'TRIAL', \"'\", ':', \"'VERY\", 'DANGEROUS', 'DAY', 'FOR', \"AMERICA'Moments\", 'after', 'the', 'verdict', 'was', 'delivered', 'by', 'the', 'jury', ',', 'the', 'former', 'president', 'spoke', 'to', 'reporters', 'in', 'the', 'hallway', 'outside', 'the', 'courtroom', '.', '``', 'This', 'was', 'a', 'disgrace', '.', 'This', 'was', 'a', 'rigged', 'trial', 'by', 'a', 'conflicted', 'judge', 'who', 'was', 'corrupt', 'as', 'a', 'rigged', 'trial', 'and', 'disgrace', '.', 'It', 'would', \"n't\", 'give', 'us', 'a', 'venue', 'change', ',', \"''\", 'Trump', 'said', '.', '``', 'We', 'were', 'at', 'five', 'percent', 'or', '6', '%', 'in', 'this', 'district', ',', 'in', 'this', 'area', '.', 'This', 'was', 'a', 'rigged', ',', 'disgraceful', 'trial', '.', \"''\", 'Trump', 'said', '``', 'the', 'real', 'verdict', 'is', 'going', 'to', 'be', 'November', '5th', 'by', 'the', 'people', '.', \"''\", '``', 'And', 'they', 'know', 'what', 'happened', 'here', 'and', 'everybody', 'knows', 'what', 'happened', 'here', ',', \"''\", 'Trump', 'said', '.', '``', 'You', 'have', 'a', 'Soros', 'backed', 'DA', 'and', 'the', 'whole', 'thing', '.', \"''\", 'He', 'added', ':', '``', 'We', 'did', \"n't\", 'do', 'anything', 'wrong', '.', 'I', \"'m\", 'a', 'very', 'innocent', 'man', '.', 'And', 'it', \"'s\", 'okay', '.', 'I', \"'m\", 'fighting', 'for', 'our', 'country', '.', 'I', \"'m\", 'fighting', 'for', 'our', 'Constitution', '.', 'Our', 'whole', 'country', 'is', 'being', 'rigged', 'right', 'now', '.', \"''\", 'Trump', 'said', 'that', 'the', 'case', 'was', '``', 'done', 'by', 'the', 'Biden', 'administration', 'in', 'order', 'to', 'wound', 'or', 'hurt', 'an', 'opponent', ',', 'a', 'political', 'opponent', '.', \"''\", '``', 'And', 'I', 'think', 'it', \"'s\", 'it', \"'s\", 'just', 'a', 'disgrace', '.', 'And', 'we', \"'ll\", 'keep', 'fighting', '--', 'we', \"'ll\", 'fight', 'till', 'the', 'end', 'and', 'we', \"'ll\", 'win', 'because', 'our', 'country', \"'s\", 'gone', 'to', 'hell', ',', \"''\", 'he', 'said', '.', '``', 'We', 'do', \"n't\", 'have', 'the', 'same', 'country', 'anymore', '.', 'We', 'have', 'a', 'divided', 'mess', '.', 'We', \"'re\", 'a', 'nation', 'of', 'decline', ',', 'serious', 'decline', '.', \"''\", 'Trump', 'said', '``', 'millions', 'and', 'millions', 'of', 'people', 'pouring', 'into', 'our', 'country', 'right', 'now', 'from', 'prisons', 'and', 'from', 'mental', 'institutions', ',', 'terrorists', '.', 'And', 'they', \"'re\", 'taking', 'over', 'our', 'country', '.', 'We', 'have', 'a', 'country', 'that', \"'s\", 'in', 'big', 'trouble', '.', \"''\", '``', 'But', 'this', 'was', 'a', 'rigged', 'decision', 'right', 'from', 'day', 'one', ',', 'with', 'a', 'conflicted', 'judge', 'who', 'should', 'have', 'never', 'been', 'allowed', 'to', 'try', 'this', 'case', '.', 'Never', ',', \"''\", 'he', 'said', '.', '``', 'And', 'we', 'will', 'fight', 'for', 'our', 'Constitution', '.', 'This', 'is', 'long', 'from', 'over', '.', \"''\", 'Manhattan', 'District', 'Attorney', 'Alvin', 'Bragg', 'held', 'a', 'press', 'conference', 'Thursday', 'evening', ',', 'and', 'thanked', 'the', 'jury', 'for', 'its', 'service', '.', '``', 'We', 'should', 'all', 'be', 'thankful', 'for', 'the', 'careful', 'attention', 'that', 'this', 'jury', 'paid', 'to', 'the', 'evidence', 'and', 'the', 'law', 'in', 'their', 'time', 'and', 'commitment', ',', \"''\", 'he', 'said', '.', '``', 'Over', 'these', 'past', 'several', 'weeks', '.', '12', 'everyday', 'New', 'Yorkers', 'and', 'of', 'course', ',', 'our', 'alternates', 'heard', 'testimony', 'from', '22', 'witnesses', ',', 'including', 'former', 'and', 'current', 'employees', 'of', 'the', 'defendant', ',', 'media', 'executives', ',', 'book', 'publishers', ',', 'custodians', 'of', 'records', 'and', 'others', '.', 'Their', 'review', ',', 'call', 'logs', ',', 'text', 'messages', 'and', 'emails', '.', 'They', 'heard', 'recordings', '.', 'They', 'saw', 'checks', 'and', 'invoices', ',', 'bank', 'statements', 'and', 'calendar', 'appointments', '.', 'He', 'added', ':', '``', 'This', 'type', 'of', 'white', 'collar', 'prosecution', 'is', 'core', 'to', 'what', 'we', 'do', 'at', 'the', 'Manhattan', 'District', 'Attorney', \"'s\", 'office', '.', '``', 'Bragg', 'said', 'the', 'jurors', 'made', 'a', 'decision', ',', 'leading', 'them', '``', 'to', 'a', 'unanimous', 'conclusion', 'beyond', 'a', 'reasonable', 'doubt', 'that', 'the', 'defendant', ',', 'Donald', 'J.', 'Trump', ',', 'is', 'guilty', 'of', '34', 'counts', 'of', 'falsifying', 'business', 'records', 'in', 'the', 'first', 'degree', 'to', 'conceal', 'a', 'scheme', 'to', 'corrupt', 'the', '2016', 'election', '.', '``', 'While', 'this', 'defendant', 'may', 'be', 'unlike', 'any', 'other', 'in', 'American', 'history', ',', 'we', 'arrived', 'at', 'this', 'trial', 'and', 'ultimately', 'today', 'at', 'this', 'verdict', ',', 'in', 'the', 'same', 'manner', 'as', 'every', 'other', 'case', 'that', 'comes', 'to', 'the', 'courtroom', 'doors', 'by', 'following', 'the', 'facts', 'and', 'the', 'law', 'and', 'doing', 'so', 'without', 'fear', 'or', 'favor', ',', \"''\", 'Bragg', 'said', '.', 'Manhattan', 'District', 'Attorney', 'Alvin', 'Bragg', 'speaks', 'during', 'a', 'news', 'conference', 'on', 'Thursday', ',', 'March', '7', ',', '2024', ',', 'in', 'Manhattan', ',', 'New', 'York', '.', '(', 'Barry', 'Williams/New', 'York', 'Daily', 'News/Tribune', 'News', 'Service', 'via', 'Getty', 'Images', ')', 'Bragg', 'defended', 'himself', ',', 'and', 'said', ':', '``', 'I', 'did', 'my', 'job', '.', 'Our', 'job', 'is', 'to', 'follow', 'the', 'facts', 'and', 'the', 'law', 'without', 'fear', 'or', 'favor', '.', 'And', 'that', \"'s\", 'exactly', 'what', 'we', 'did', 'here', '.', \"''\", '``', 'I', 'did', 'my', 'job', '.', 'We', 'did', 'our', 'job', '.', 'Many', 'voices', 'out', 'there', '.', 'The', 'only', 'voice', 'that', 'matters', 'is', 'the', 'voice', 'of', 'the', 'jury', ',', \"''\", 'he', 'said', '.', '``', 'And', 'the', 'jury', 'has', 'spoken', '.', \"''\", 'After', 'the', 'verdict', ',', 'Trump', \"'s\", 'campaign', 'website', 'was', 'updated', 'to', 'say', 'he', 'is', '``', 'a', 'political', 'prisoner', '.', \"''\", 'Meanwhile', ',', 'the', 'Biden', 'campaign', 'reacted', 'to', 'the', 'verdict', ',', 'saying', 'Trump', '``', 'has', 'always', 'mistakenly', 'believed', 'he', 'would', 'never', 'face', 'consequences', 'for', 'breaking', 'the', 'law', 'for', 'his', 'own', 'personal', 'gain', '.', 'But', 'today', '’', 's', 'verdict', 'does', 'not', 'change', 'the', 'fact', 'that', 'the', 'American', 'people', 'face', 'a', 'simple', 'reality', '.', \"''\", '``', 'There', 'is', 'still', 'only', 'one', 'way', 'to', 'keep', 'Donald', 'Trump', 'out', 'of', 'the', 'Oval', 'Office', ':', 'at', 'the', 'ballot', 'box', '.', 'Convicted', 'felon', 'or', 'not', ',', 'Trump', 'will', 'be', 'the', 'Republican', 'nominee', 'for', 'president', ',', \"''\", 'Biden', 'campaign', 'spokesman', 'Michael', 'Tyler', 'said', '.', 'Tyler', 'added', ':', '``', 'The', 'threat', 'Trump', 'posed', 'to', 'our', 'democracy', 'has', 'never', 'been', 'greater', '.', '``', 'And', 'ex-Trump', 'attorney', 'Michael', 'Cohen', ',', 'the', 'prosecution', \"'s\", '``', 'star', 'witness', ',', \"''\", 'celebrated', 'the', 'verdict', '.', '``', 'Today', 'is', 'an', 'important', 'day', 'for', 'accountability', 'and', 'the', 'rule', 'of', 'law', ',', \"''\", 'Cohen', 'said', 'in', 'a', 'statement', 'to', 'Fox', 'News', '.', '``', 'While', 'it', 'has', 'been', 'a', 'difficult', 'journey', 'for', 'me', 'and', 'my', 'family', ',', 'the', 'truth', 'always', 'matters', '.', \"''\", 'Cohen', 'also', 'touted', 'the', 'conviction', 'of', 'Trump', 'in', 'a', 'post', 'to', 'X', ',', 'writing', ',', '``', 'Guilty', 'On', 'All', 'Counts', '!', '#', 'TeamCohen', '.', '``', 'Donald', 'Trump', \"'s\", 'former', 'lawyer', 'Michael', 'Cohen', \"'s\", 'concluded', 'his', 'testimony', 'in', 'the', 'NY', 'v.', 'Trump', 'trial', '.', '(', 'Getty', 'Images', ')', 'During', 'closing', 'arguments', 'this', 'week', ',', 'defense', 'attorneys', 'for', 'former', 'President', 'Trump', 'told', 'the', 'jury', 'he', 'is', 'innocent', ',', 'did', 'not', 'commit', 'any', 'crimes', 'and', 'that', 'Bragg', '``', 'did', 'not', 'meet', 'the', 'burden', 'of', 'proof', '.', 'Period', '.', \"''\", '``', 'President', 'Trump', 'is', 'innocent', '.', 'He', 'did', 'not', 'commit', 'any', 'crimes', '.', 'The', 'district', 'attorney', 'did', 'not', 'meet', 'the', 'burden', 'of', 'proof', '.', 'Period', ',', \"''\", 'Blanche', 'said', '.', 'Blanche', 'added', 'that', 'the', 'case', 'is', '``', 'simple', \"''\", 'and', 'it', 'is', '``', 'not', 'a', 'guilty', 'verdict', '.', \"''\", '``', 'This', 'case', 'is', 'about', 'documents', ';', 'it', 'is', 'a', 'paper', 'case', ',', \"''\", 'Blanche', 'said', '.', '``', 'This', 'case', 'is', 'not', 'about', 'an', 'encounter', 'with', 'Stormy', 'Daniels', '18', 'years', 'ago', '.', 'It', 'is', 'not', 'even', 'about', 'a', 'nondisclosure', 'agreement', 'signed', 'eight', 'years', 'ago', '.', '``', 'Blanche', 'said', 'the', 'charges', 'are', 'about', 'whether', 'Trump', '``', 'had', 'anything', \"''\", 'to', 'do', 'with', 'payments', 'to', 'his', 'ex-attorney', ',', 'Michael', 'Cohen', ',', 'on', 'his', 'personal', 'accounting', 'ledger', '.', '``', 'The', 'answer', '?', 'The', 'bookings', 'were', 'accurate', 'and', 'there', 'was', 'no', 'intent', 'to', 'defraud', 'and', 'there', 'was', 'no', 'conspiracy', 'to', 'influence', 'the', '2016', 'election', ',', \"''\", 'Blanche', 'said', '.', '``', 'The', 'proof', 'doesn', '’', 't', 'add', 'up', '.', '``', 'NY', 'V', 'TRUMP', ':', 'PROSECUTION', 'SAYS', 'THEY', 'HAVE', 'PRESENTED', \"'POWERFUL\", 'EVIDENCE', \"'\", 'AGAINST', 'FORMER', 'PRESIDENTBlanche', 'told', 'the', 'jury', 'they', 'can', 'not', 'convict', 'Trump', 'based', 'on', 'Cohen', '’', 's', 'testimony', ',', 'recalling', 'how', 'Trump', '’', 's', 'ex-attorney', '``', 'took', 'the', 'stand', 'and', 'then', 'lied', '.', '``', '``', 'The', 'records', 'are', 'not', 'false', 'and', 'there', 'was', 'no', 'intent', 'to', 'defraud', ',', \"''\", 'he', 'said.Blanche', 'said', 'not', 'one', 'single', 'invoice', 'was', 'sent', 'to', 'Trump', 'directly', 'and', 'that', 'Cohen', 'billed', 'Trump', '``', 'for', 'services', 'rendered', '.', \"''\", 'He', 'also', 'told', 'the', 'jury', 'Cohen', 'rendered', 'services', 'as', 'Trump', '’', 's', 'personal', 'attorney', 'in', '2017.Blanche', 'noted', 'Cohen', 'had', 'lied', 'to', 'both', 'Houses', 'of', 'Congress', ',', 'federal', 'judges', ',', 'state', 'judges', 'and', 'family', '.', '``', 'You', 'can', 'not', 'send', 'someone', 'to', 'prison', 'based', 'upon', 'the', 'words', 'of', 'Michael', 'Cohen', ',', \"''\", 'Blanche', 'said', ',', 'adding', 'that', 'a', 'verdict', 'needs', 'to', 'be', 'reached', 'based', 'on', 'evidence', 'from', 'documents', 'and', 'witnesses', '.', '``', 'If', 'you', 'do', 'that', ',', 'this', 'is', 'a', 'very', 'quick', 'and', 'easy', 'not-guilty', 'verdict', '.', \"''\", 'Meanwhile', ',', 'prosecutor', 'Joshua', 'Steinglass', 'delivered', 'his', 'closing', 'argument', 'for', 'more', 'than', 'five', 'hours', 'Tuesday', ',', 'saying', 'the', 'prosecution', 'has', 'presented', '``', 'powerful', \"''\", 'evidence', 'in', 'their', 'case', 'against', 'Trump', '.', 'Steinglass', 'said', 'Trump', '’', 's', 'intent', 'to', 'defraud', '``', 'could', 'not', 'be', 'any', 'clearer', ',', \"''\", 'arguing', 'that', 'it', 'would', 'have', 'been', 'far', 'easier', 'for', 'him', 'to', 'pay', 'Stormy', 'Daniels', 'directly', '.', 'Instead', ',', 'the', 'prosecutor', 'said', ',', 'he', 'concocted', 'an', 'elaborate', 'scheme', 'and', 'everything', 'he', 'and', 'his', 'cohorts', 'did', 'was', '``', 'cloaked', 'in', 'lies', '.', '``', '``', 'The', 'name', 'of', 'the', 'game', 'was', 'concealment', 'and', 'all', 'roads', 'lead', 'inescapably', 'to', 'the', 'man', 'who', 'benefited', 'the', 'most', ':', 'the', 'defendant', ',', 'former', 'President', 'Donald', 'Trump', ',', \"''\", 'Steinglass', 'said.Steinglass', 'defended', 'the', 'prosecution', \"'s\", 'use', 'of', 'Michael', 'Cohen', 'as', 'a', 'witness', ',', 'telling', 'the', 'jury', ':', '``', 'I', '’', 'm', 'not', 'asking', 'you', 'to', 'feel', 'bad', 'for', 'Michael', 'Cohen', '.', 'He', 'made', 'his', 'bed', '.', \"''\", '``', 'But', 'you', 'can', 'hardly', 'blame', 'him', 'for', 'making', 'money', 'from', 'the', 'one', 'thing', 'he', 'has', 'left', ',', 'which', 'is', 'his', 'knowledge', 'of', 'the', 'inner', 'workings', 'of', 'the', 'Trump', 'Organization', ',', \"''\", 'he', 'said', '.', '``', 'We', 'didn', '’', 't', 'choose', 'Michael', 'Cohen', 'to', 'be', 'our', 'witness', '.', 'We', 'didn', '’', 't', 'pick', 'him', 'up', 'at', 'the', 'witness', 'store', ',', \"''\", 'Steinglass', 'said', '.', '``', 'The', 'defendant', 'chose', 'Michael', 'Cohen', 'to', 'be', 'his', 'fixer', 'because', 'he', 'was', 'willing', 'to', 'lie', 'and', 'cheat', 'on', 'the', 'defendant', '’', 's', 'behalf', '.', \"''\", 'Trump', 'defense', 'attorneys', ',', 'in', 'their', 'second', 'attempt', 'to', 'dismiss', 'the', 'case', 'earlier', 'this', 'month', ',', 'said', 'no', 'evidence', 'had', 'been', 'presented', 'by', 'the', 'prosecution', 'to', 'connect', 'the', 'former', 'president', 'to', 'any', 'falsification', 'of', 'business', 'records', '.', 'Defense', 'attorneys', 'motioned', 'for', 'dismissal', 'after', 'Michael', 'Cohen', ',', 'Trump', '’', 's', 'former', 'attorney', 'and', 'the', 'prosecution', '’', 's', '``', 'star', 'witness', ',', \"''\", 'finished', 'his', 'testimony', '.', 'Former', 'president', 'Donald', 'Trump', 'waves', 'while', 'leaving', 'Trump', 'Tower', 'on', 'his', 'way', 'to', 'Manhattan', 'criminal', 'court', ',', 'Tuesday', ',', 'May', '21', ',', '2024', ',', 'in', 'New', 'York', '.', '(', 'AP', 'Photo/Julia', 'Nikhinson', ')', 'He', 'testified', 'that', 'he', 'personally', 'made', 'the', '$', '130,000', 'payment', 'to', 'Daniels', 'using', 'a', 'home', 'equity', 'line', 'of', 'credit', 'in', 'an', 'effort', 'to', 'conceal', 'the', 'payment', 'from', 'his', 'wife', '.', 'Cohen', 'said', 'he', 'did', 'this', 'because', 'Trump', 'told', 'him', 'to', '``', 'handle', 'it', \"''\", 'and', 'prevent', 'a', 'negative', 'story', 'from', 'coming', 'out', 'ahead', 'of', 'the', 'election.But', 'Trump', '’', 's', 'defense', 'attorneys', 'maintained', 'that', 'the', 'president', 'never', 'directed', 'Cohen', 'to', 'do', 'so.Former', 'U.S.', 'President', 'Donald', 'Trump', 'listens', 'as', 'defense', 'lawyer', 'Todd', 'Blanche', 'presents', 'closing', 'arguments', 'duri', '(', 'REUTERS/Jane', 'Rosenberg', ')', 'CLICK', 'HERE', 'TO', 'GET', 'THE', 'FOX', 'NEWS', 'APPCohen', 'testified', 'that', 'he', 'was', '``', 'reimbursed', '$', '420,000', \"''\", 'for', 'the', '$', '130,000', 'he', 'paid', 'to', 'Daniels', '.', 'Cohen', 'said', 'former', 'Trump', 'Organization', 'CFO', 'Allen', 'Weisselberg', 'suggested', 'he', '``', 'gross', 'up', \"''\", 'the', 'payments', 'and', 'that', 'Trump', 'knew', 'the', 'details', 'of', 'the', 'reimbursement.The', 'prosecution', 'presented', 'Cohen', 'with', '11', 'checks', 'totaling', '$', '420,000', '.', 'Cohen', 'confirmed', 'that', 'they', 'were', 'all', 'received', 'and', 'deposited', '.', 'The', 'checks', 'had', 'a', 'description', 'of', 'a', '``', 'retainer', ',', \"''\", 'which', 'Cohen', 'said', 'was', 'false.This', 'is', 'a', 'developing', 'story', '.', 'Please', 'check', 'back', 'for', 'updates', '.', 'Brooke', 'Singman', 'is', 'a', 'political', 'correspondent', 'and', 'reporter', 'for', 'Fox', 'News', 'Digital', ',', 'Fox', 'News', 'Channel', 'and', 'FOX', 'Business.Get', 'the', 'latest', 'updates', 'from', 'the', '2024', 'campaign', 'trail', ',', 'exclusive', 'interviews', 'and', 'more', 'Fox', 'News', 'politics', 'content.SubscribedYou', \"'ve\", 'successfully', 'subscribed', 'to', 'this', 'newsletter', '!', 'This', 'material', 'may', 'not', 'be', 'published', ',', 'broadcast', ',', 'rewritten', ',', 'or', 'redistributed', '.', '©2024', 'FOX', 'News', 'Network', ',', 'LLC', '.', 'All', 'rights', 'reserved', '.', 'Quotes', 'displayed', 'in', 'real-time', 'or', 'delayed', 'by', 'at', 'least', '15', 'minutes', '.', 'Market', 'data', 'provided', 'by', 'Factset', '.', 'Powered', 'and', 'implemented', 'by', 'FactSet', 'Digital', 'Solutions', '.', 'Legal', 'Statement', '.', 'Mutual', 'Fund', 'and', 'ETF', 'data', 'provided', 'by', 'Refinitiv', 'Lipper', '.']\n"
          ]
        }
      ]
    },
    {
      "cell_type": "markdown",
      "source": [
        "However, I decided focus souly on the lexicon, and filtered out puncuation using list comprehention.\n",
        "~~-,.\"[]{}()\\/?~~"
      ],
      "metadata": {
        "id": "aDJyf2ikI_aF"
      }
    },
    {
      "cell_type": "code",
      "source": [
        "tokenized_text = [word for word in tokenized_text if word.isalnum()]"
      ],
      "metadata": {
        "id": "ru1R5ma4IdGQ"
      },
      "execution_count": 67,
      "outputs": []
    },
    {
      "cell_type": "markdown",
      "source": [
        "After creating the desired list of tokens, the next loop pairs each word with its specific tag, and stores them in a list of tuples, in the sequence (token, tag)."
      ],
      "metadata": {
        "id": "PXA08Zk95HrW"
      }
    },
    {
      "cell_type": "code",
      "source": [
        "tuples = []\n",
        "\n",
        "for sentence in tokenized_text:\n",
        "  tokens = nltk.word_tokenize(sentence)\n",
        "  pos_tagged = nltk.pos_tag(tokens)\n",
        "  for item in pos_tagged:\n",
        "    tuples.append(item)\n"
      ],
      "metadata": {
        "collapsed": true,
        "id": "YHP1i1_zjbWr"
      },
      "execution_count": 68,
      "outputs": []
    },
    {
      "cell_type": "markdown",
      "source": [
        "Finally, to see the frequency with which each tag occurs, the next loop stores the tag as the key, and every time it comes up, the value is updated.\n",
        "\n"
      ],
      "metadata": {
        "id": "z3Oa1-8b6FMq"
      }
    },
    {
      "cell_type": "code",
      "source": [
        "counter_dic = {}\n",
        "\n",
        "for el in tuples:\n",
        "  tag = el[1]\n",
        "  if tag not in counter_dic:\n",
        "    counter_dic[tag] = 1\n",
        "  else:\n",
        "    counter_dic[tag] += 1\n",
        "print(*(f\"{x}:{y}\" for x,y in counter_dic.items()), sep=\", \" )"
      ],
      "metadata": {
        "colab": {
          "base_uri": "https://localhost:8080/"
        },
        "id": "YU7oASCLluW-",
        "outputId": "04049ed0-59f6-4e96-b8af-13d912c85515"
      },
      "execution_count": 104,
      "outputs": [
        {
          "output_type": "stream",
          "name": "stdout",
          "text": [
            "DT:205, NN:568, MD:16, RB:74, VB:38, VBN:81, CC:69, NNS:134, IN:202, JJS:4, CD:33, NNP:74, JJ:72, PRP$:36, VBD:74, VBG:32, PRP:79, TO:54, VBZ:35, WRB:2, WP:7, EX:1, JJR:2, VBP:2, RBR:3, WDT:2\n"
          ]
        }
      ]
    },
    {
      "cell_type": "markdown",
      "source": [
        "For clarity, I initially displayed the data in a table format using _pandas_. I ordered the data in a descending order, by the values, namely the frequency with which each part of speech occurs."
      ],
      "metadata": {
        "id": "I174tgHJ_IfC"
      }
    },
    {
      "cell_type": "code",
      "source": [
        "import pandas as pd\n",
        "sorted_items = sorted(counter_dic.items(), key=lambda x: x[1], reverse=True)\n",
        "df = pd.DataFrame(list(sorted_items), columns=['Key', 'Value'])\n",
        "print(df)"
      ],
      "metadata": {
        "colab": {
          "base_uri": "https://localhost:8080/"
        },
        "id": "GR3PX4fTi7v-",
        "outputId": "bf331ffb-6410-4ab5-faa4-ac049c6cd674"
      },
      "execution_count": 110,
      "outputs": [
        {
          "output_type": "stream",
          "name": "stdout",
          "text": [
            "     Key  Value\n",
            "0     NN    568\n",
            "1     DT    205\n",
            "2     IN    202\n",
            "3    NNS    134\n",
            "4    VBN     81\n",
            "5    PRP     79\n",
            "6     RB     74\n",
            "7    NNP     74\n",
            "8    VBD     74\n",
            "9     JJ     72\n",
            "10    CC     69\n",
            "11    TO     54\n",
            "12    VB     38\n",
            "13  PRP$     36\n",
            "14   VBZ     35\n",
            "15    CD     33\n",
            "16   VBG     32\n",
            "17    MD     16\n",
            "18    WP      7\n",
            "19   JJS      4\n",
            "20   RBR      3\n",
            "21   WRB      2\n",
            "22   JJR      2\n",
            "23   VBP      2\n",
            "24   WDT      2\n",
            "25    EX      1\n"
          ]
        }
      ]
    },
    {
      "cell_type": "markdown",
      "source": [
        "After storing the keys and values in separate lists, they were plotted on bar charts using the _matplotlib.pyplot_ library. For the data to be more legible, I have divided them into two separate charts. Additionally, the pie chart shows just how much of the lexis each part of speech makes up."
      ],
      "metadata": {
        "id": "JFx647VuA63c"
      }
    },
    {
      "cell_type": "code",
      "source": [
        "import matplotlib.pyplot as plt\n",
        "keys = []\n",
        "values = []\n",
        "\n",
        "for el in counter_dic:\n",
        "  keys.append(el)\n",
        "  values.append(counter_dic[el])"
      ],
      "metadata": {
        "id": "jbiZj6vmmXBg"
      },
      "execution_count": 70,
      "outputs": []
    },
    {
      "cell_type": "code",
      "source": [
        "plt.bar(keys[0:16], values[0:16], color = 'blue')"
      ],
      "metadata": {
        "colab": {
          "base_uri": "https://localhost:8080/",
          "height": 448
        },
        "id": "Fnjnb2ZMmeLL",
        "outputId": "1b7d8aea-dea9-4933-98fa-a7b77ef26f47"
      },
      "execution_count": 106,
      "outputs": [
        {
          "output_type": "execute_result",
          "data": {
            "text/plain": [
              "<BarContainer object of 16 artists>"
            ]
          },
          "metadata": {},
          "execution_count": 106
        },
        {
          "output_type": "display_data",
          "data": {
            "text/plain": [
              "<Figure size 640x480 with 1 Axes>"
            ],
            "image/png": "[encoded data removed]"
          },
          "metadata": {}
        }
      ]
    },
    {
      "cell_type": "code",
      "source": [
        "plt.bar(keys[17:], values[17:], color = 'blue')"
      ],
      "metadata": {
        "colab": {
          "base_uri": "https://localhost:8080/",
          "height": 448
        },
        "id": "wMZ3hvajKkdG",
        "outputId": "80cb6231-06c2-4d2d-a2be-593d2fd78d30"
      },
      "execution_count": 111,
      "outputs": [
        {
          "output_type": "execute_result",
          "data": {
            "text/plain": [
              "<BarContainer object of 9 artists>"
            ]
          },
          "metadata": {},
          "execution_count": 111
        },
        {
          "output_type": "display_data",
          "data": {
            "text/plain": [
              "<Figure size 640x480 with 1 Axes>"
            ],
            "image/png": "[encoded data removed]"
          },
          "metadata": {}
        }
      ]
    },
    {
      "cell_type": "code",
      "source": [
        "plt.pie(values,labels = keys)"
      ],
      "metadata": {
        "colab": {
          "base_uri": "https://localhost:8080/",
          "height": 1000
        },
        "id": "ph4mCvLpmzak",
        "outputId": "c8e891ca-a19f-41b4-fac8-b9ffb32ed8e6"
      },
      "execution_count": 73,
      "outputs": [
        {
          "output_type": "execute_result",
          "data": {
            "text/plain": [
              "([<matplotlib.patches.Wedge at 0x7ad2d2b5eb00>,\n",
              "  <matplotlib.patches.Wedge at 0x7ad2d2b5ea10>,\n",
              "  <matplotlib.patches.Wedge at 0x7ad2d2b5f3d0>,\n",
              "  <matplotlib.patches.Wedge at 0x7ad2d2b5f850>,\n",
              "  <matplotlib.patches.Wedge at 0x7ad2d2b5fcd0>,\n",
              "  <matplotlib.patches.Wedge at 0x7ad2d2b8c190>,\n",
              "  <matplotlib.patches.Wedge at 0x7ad2d2b8c610>,\n",
              "  <matplotlib.patches.Wedge at 0x7ad2d2b8ca90>,\n",
              "  <matplotlib.patches.Wedge at 0x7ad2d2b8cf10>,\n",
              "  <matplotlib.patches.Wedge at 0x7ad2d2b8d390>,\n",
              "  <matplotlib.patches.Wedge at 0x7ad2d2b5ead0>,\n",
              "  <matplotlib.patches.Wedge at 0x7ad2d2b8dc60>,\n",
              "  <matplotlib.patches.Wedge at 0x7ad2d2b8e0e0>,\n",
              "  <matplotlib.patches.Wedge at 0x7ad2d2b8e560>,\n",
              "  <matplotlib.patches.Wedge at 0x7ad2d2b8e9e0>,\n",
              "  <matplotlib.patches.Wedge at 0x7ad2d2b8ee60>,\n",
              "  <matplotlib.patches.Wedge at 0x7ad2d2b8f2e0>,\n",
              "  <matplotlib.patches.Wedge at 0x7ad2d2b8f760>,\n",
              "  <matplotlib.patches.Wedge at 0x7ad2d2b8fbe0>,\n",
              "  <matplotlib.patches.Wedge at 0x7ad2d2bcc0a0>,\n",
              "  <matplotlib.patches.Wedge at 0x7ad2d2bcc520>,\n",
              "  <matplotlib.patches.Wedge at 0x7ad2d2bcc9a0>,\n",
              "  <matplotlib.patches.Wedge at 0x7ad2d2bcce20>,\n",
              "  <matplotlib.patches.Wedge at 0x7ad2d2bcd2a0>,\n",
              "  <matplotlib.patches.Wedge at 0x7ad2d2bcd720>,\n",
              "  <matplotlib.patches.Wedge at 0x7ad2d2bcdba0>],\n",
              " [Text(1.0373452999086592, 0.36594361417766846, 'DT'),\n",
              "  Text(-0.051844308286596516, 1.0987775788112373, 'NN'),\n",
              "  Text(-0.9334309959812359, 0.5819850305132241, 'MD'),\n",
              "  Text(-1.0094360734404266, 0.4370798710043438, 'RB'),\n",
              "  Text(-1.0726803921342667, 0.24363246157003798, 'VB'),\n",
              "  Text(-1.0996146724997824, 0.029113090237840332, 'VBN'),\n",
              "  Text(-1.0730820169700352, -0.24185736469150798, 'CC'),\n",
              "  Text(-0.933431087932038, -0.581984883035644, 'NNS'),\n",
              "  Text(-0.4858034432891101, -0.9869118575072673, 'IN'),\n",
              "  Text(-0.12800350741698915, -1.0925269342624688, 'JJS'),\n",
              "  Text(-0.06093131021398501, -1.0983111469140279, 'CD'),\n",
              "  Text(0.13342401531936515, -1.0918782130512807, 'NNP'),\n",
              "  Text(0.3907196684149292, -1.028269488370499, 'JJ'),\n",
              "  Text(0.5672436109478685, -0.9424620341630868, 'PRP$'),\n",
              "  Text(0.7284389550584214, -0.8242431005191341, 'VBD'),\n",
              "  Text(0.8610671494393345, -0.6845168837628617, 'VBG'),\n",
              "  Text(0.9715838467928776, -0.5157759481123121, 'PRP'),\n",
              "  Text(1.0607317369360045, -0.29128711309758787, 'TO'),\n",
              "  Text(1.0919881882014104, -0.13252092977564514, 'VBZ'),\n",
              "  Text(1.0980497513392056, -0.06547322799365399, 'WRB'),\n",
              "  Text(1.0989028425233975, -0.04911764137249496, 'WP'),\n",
              "  Text(1.0994566426101302, -0.03457008852260269, 'EX'),\n",
              "  Text(1.0996146733515832, -0.029113058064916843, 'JJR'),\n",
              "  Text(1.0997832479041416, -0.021835925201772768, 'VBP'),\n",
              "  Text(1.0999262421698317, -0.012738201841438332, 'RBR'),\n",
              "  Text(1.0999939787387174, -0.0036396069247265823, 'WDT')])"
            ]
          },
          "metadata": {},
          "execution_count": 73
        },
        {
          "output_type": "display_data",
          "data": {
            "text/plain": [
              "<Figure size 640x480 with 1 Axes>"
            ],
            "image/png": "[encoded data removed]"
          },
          "metadata": {}
        }
      ]
    },
    {
      "cell_type": "markdown",
      "source": [
        "## 🧩  **Article 2**\n",
        "<a id=\"code-section-2\"></a>\n",
        "The analysis of the CNN article was conducted in an identical way as above."
      ],
      "metadata": {
        "id": "FlRX1DISBkQx"
      }
    },
    {
      "cell_type": "code",
      "source": [
        "page = requests.get('https://edition.cnn.com/2024/05/30/politics/donald-trump-hush-money-trial-verdict/index.html')\n",
        "interview2 = bs(page.content, 'html.parser')"
      ],
      "metadata": {
        "id": "yxFZ8_yICG51"
      },
      "execution_count": 116,
      "outputs": []
    },
    {
      "cell_type": "code",
      "source": [
        "content2 = interview2.find_all('p')\n",
        "print(content)"
      ],
      "metadata": {
        "collapsed": true,
        "colab": {
          "base_uri": "https://localhost:8080/"
        },
        "id": "9PoZ0aazCOAT",
        "outputId": "db77c5fd-2a07-4d6e-fefe-c71d56e999de"
      },
      "execution_count": 15,
      "outputs": [
        {
          "output_type": "stream",
          "name": "stdout",
          "text": [
            "[<p class=\"copyright\">\n",
            "      This material may not be published, broadcast, rewritten,\n",
            "      or redistributed. ©2024 FOX News Network, LLC. All rights reserved.\n",
            "      Quotes displayed in real-time or delayed by at least 15 minutes. Market data provided by\n",
            "      <a data-omtr-intcmp=\"topnav_more_factset\" href=\"https://www.factset.com/\">Factset</a>. Powered and implemented by\n",
            "      <a data-omtr-intcmp=\"topnav_more_factset_digital_solutions\" href=\"https://www.factset.com/solutions/business-needs/digital-solutions\">FactSet Digital Solutions</a>.\n",
            "      <a data-omtr-intcmp=\"topnav_more_factset_privacy\" href=\"https://www.factset.com/privacy\">Legal Statement</a>. Mutual Fund and ETF data provided by\n",
            "      <a data-omtr-intcmp=\"topnav_more_refinitive_info\" href=\"https://lipperalpha.refinitiv.com/\">Refinitiv Lipper</a>.\n",
            "    </p>, <p data-v-b8a95802=\"\">Former President Trump speaks outside the NYC courtroom ahead of closing arguments in his criminal trial.</p>, <p class=\"speakable\">Former President Trump was found guilty on all counts in his historic and unprecedented criminal trial, making him the first former president of the United States to be convicted of a crime. </p>, <p class=\"speakable\">Manhattan District Attorney Alvin Bragg charged former <a href=\"https://www.foxnews.com/category/person/donald-trump\" rel=\"noopener\" target=\"_blank\">President Donald Trump</a> with 34 counts of falsifying business records in the first degree.</p>, <p>Trump pleaded not guilty to all counts.</p>, <p>Jurors found the former president guilty on all counts.</p>, <p><a href=\"https://www.foxnews.com/live-news/may-30-trump-trial-jury-deliberations-day-2\" rel=\"noopener\" target=\"_blank\"><strong>LIVE UPDATES: TRUMP VERDICT</strong></a> </p>, <p>Each count carries a maximum prison sentence of 4 years. In total, Trump faces a maximum sentence of 136 years. </p>, <p>Judge <a href=\"https://www.foxnews.com/politics/stefanik-files-ethics-complaint-against-trump-trial-judge-cites-daughters-work-group-promoting-dems\" rel=\"noopener\" target=\"_blank\">Juan Merchan</a> invited the jury into the courtroom to read its verdict after two days of deliberations. </p>, <p><span>Former president Donald Trump awaits the start of proceedings at Manhattan criminal court, Monday, April 22, 2024, in New York. </span> <span>(AP Photo/Yuki Iwamura, Pool)</span></p>, <p>Sentencing for the former president will be July 11 at 10:00 a.m--just four days before the start of the Republican National Convention, where he is expected to be formally nominated as the 2024 Republican presidential nominee. The convention is July 15- 18 in Milwaukee. </p>, <p>Any motions will need to be filed by June 13th.</p>, <p>The conviction does not bar Trump from running for president. </p>, <p>Prosecutors needed to prove beyond a reasonable doubt that Trump falsified those records to conceal a $130,000 payment to Stormy Daniels, a pornographic performer, in the lead-up to the 2016 election to silence her about an alleged affair with Trump in 2006.</p>, <p><a href=\"https://www.foxnews.com/politics/trump-previews-closing-arguments-sham-trial-very-dangerous-day-america\" rel=\"noopener\" target=\"_blank\"><strong><u>TRUMP PREVIEWS CLOSING ARGUMENTS IN 'SHAM TRIAL': 'VERY DANGEROUS DAY FOR AMERICA'</u></strong></a></p>, <p>Moments after the verdict was delivered by the jury, the former president spoke to reporters in the hallway outside the courtroom. </p>, <p>\"This was a disgrace. This was a rigged trial by a conflicted judge who was corrupt as a rigged trial and disgrace. It wouldn't give us a venue change,\" Trump said. \"We were at five percent or 6% in this district, in this area. This was a rigged, disgraceful trial.\" </p>, <p>Trump said \"the real verdict is going to be November 5th by the people.\" </p>, <p>\"And they know what happened here and everybody knows what happened here,\" Trump said. \"You have a Soros backed DA and the whole thing.\" </p>, <p>He added: \"We didn't do anything wrong. I'm a very innocent man. And it's okay. I'm fighting for our country. I'm fighting for our Constitution. Our whole country is being rigged right now.\" </p>, <p>Trump said that the case was \"done by the Biden administration in order to wound or hurt an opponent, a political opponent.\" </p>, <p>\"And I think it's it's just a disgrace. And we'll keep fighting--we'll fight till the end and we'll win because our country's gone to hell,\" he said. \"We don't have the same country anymore. We have a divided mess. We're a nation of decline, serious decline.\" </p>, <p>Trump said \"millions and millions of people pouring into our country right now from prisons and from mental institutions, terrorists. And they're taking over our country. We have a country that's in big trouble.\" </p>, <p>\"But this was a rigged decision right from day one, with a conflicted judge who should have never been allowed to try this case. Never,\" he said. \"And we will fight for our Constitution. This is long from over.\" </p>, <p>Manhattan District Attorney Alvin Bragg held a press conference Thursday evening, and thanked the jury for its service. </p>, <p>\"We should all be thankful for the careful attention that this jury paid to the evidence and the law in their time and commitment,\" he said. \"Over these past several weeks. 12 everyday New Yorkers and of course, our alternates heard testimony from 22 witnesses, including former and current employees of the defendant, media executives, book publishers, custodians of records and others. Their review, call logs, text messages and emails. They heard recordings. They saw checks and invoices, bank statements and calendar appointments. </p>, <p>He added: \"This type of white collar prosecution is core to what we do at the Manhattan District Attorney's office.\"</p>, <p>Bragg said the jurors made a decision, leading them \"to a unanimous conclusion beyond a reasonable doubt that the defendant, Donald J. Trump, is guilty of 34 counts of falsifying business records in the first degree to conceal a scheme to corrupt the 2016 election.</p>, <p>\"While this defendant may be unlike any other in American history, we arrived at this trial and ultimately today at this verdict, in the same manner as every other case that comes to the courtroom doors by following the facts and the law and doing so without fear or favor,\" Bragg said. </p>, <p><span>Manhattan District Attorney Alvin Bragg speaks during a news conference on Thursday, March 7, 2024, in Manhattan, New York.</span> <span>(Barry Williams/New York Daily News/Tribune News Service via Getty Images)</span></p>, <p>Bragg defended himself, and said: \"I did my job. Our job is to follow the facts and the law without fear or favor. And that's exactly what we did here.\" </p>, <p>\"I did my job. We did our job. Many voices out there. The only voice that matters is the voice of the jury,\" he said. \"And the jury has spoken.\" </p>, <p>After the verdict, Trump's campaign website was updated to say he is \"a political prisoner.\" </p>, <p>Meanwhile, the Biden campaign reacted to the verdict, saying Trump \"has always mistakenly believed he would never face consequences for breaking the law for his own personal gain. But today’s verdict does not change the fact that the American people face a simple reality.\" </p>, <p>\"There is still only one way to keep Donald Trump out of the Oval Office: at the ballot box. Convicted felon or not, Trump will be the Republican nominee for president,\" Biden campaign spokesman Michael Tyler said. </p>, <p>Tyler added: \"The threat Trump posed to our democracy has never been greater.\"</p>, <p>And ex-Trump attorney Michael Cohen, the prosecution's \"star witness,\" celebrated the verdict. </p>, <p>\"Today is an important day for accountability and the rule of law,\" Cohen said in a statement to Fox News. \"While it has been a difficult journey for me and my family, the truth always matters.\" </p>, <p>Cohen also touted the conviction of Trump in a post to X, writing, \"Guilty On All Counts! #TeamCohen.\"</p>, <p><span>Donald Trump's former lawyer Michael Cohen's concluded his testimony in the NY v. Trump trial.</span> <span>(Getty Images)</span></p>, <p>During closing arguments this week, defense attorneys for former <a href=\"https://www.foxnews.com/politics/ny-v-trump-closing-arguments-begin-merchan-skirts-decision-motion-dismiss\" rel=\"noopener\" target=\"_blank\"><u>President Trump</u></a> told the jury he is innocent, did not commit any crimes and that Bragg \"did not meet the burden of proof. Period.\" </p>, <p>\"President Trump is innocent. He did not commit any crimes. The district attorney did not meet the burden of proof. Period,\" Blanche said. </p>, <p>Blanche added that the case is \"simple\" and it is \"not a guilty verdict.\" </p>, <p>\"This case is about documents; it is a paper case,\" Blanche said. \"This case is not about an encounter with Stormy Daniels 18 years ago. It is not even about a nondisclosure agreement signed eight years ago.\"</p>, <p>Blanche said the charges are about whether Trump \"had anything\" to do with payments to his ex-attorney, Michael Cohen, on his personal accounting ledger.</p>, <p>\"The answer? The bookings were accurate and there was no intent to defraud and there was no conspiracy to influence the 2016 election,\" Blanche said. \"The proof doesn’t add up.\"</p>, <p><a href=\"https://www.foxnews.com/politics/ny-v-trump-prosecution-says-have-presented-powerful-evidence-against-former-president\" rel=\"noopener\" target=\"_blank\"><strong><u>NY V TRUMP: PROSECUTION SAYS THEY HAVE PRESENTED 'POWERFUL EVIDENCE' AGAINST FORMER PRESIDENT</u></strong></a></p>, <p>Blanche told the jury they cannot convict Trump based on Cohen’s testimony, recalling how Trump’s ex-attorney \"took the stand and then lied.\"</p>, <p>\"The records are not false and there was no intent to defraud,\" he said.</p>, <p>Blanche said not one single invoice was sent to Trump directly and that Cohen billed Trump \"for services rendered.\" He also told the jury Cohen rendered services as Trump’s personal attorney in 2017.</p>, <p>Blanche noted Cohen had lied to both Houses of Congress, federal judges, state judges and family.</p>, <p>\"You cannot send someone to prison based upon the words of Michael Cohen,\" Blanche said, adding that a verdict needs to be reached based on evidence from documents and witnesses. \"If you do that, this is a very quick and easy not-guilty verdict.\" </p>, <p>Meanwhile, prosecutor Joshua Steinglass delivered his closing argument for more than five hours Tuesday, saying the prosecution has presented \"powerful\" evidence in their case against Trump. </p>, <p>Steinglass said Trump’s intent to defraud \"could not be any clearer,\" arguing that it would have been far easier for him to pay Stormy Daniels directly. Instead, the prosecutor said, he concocted an elaborate scheme and everything he and his cohorts did was \"cloaked in lies.\"</p>, <p>\"The name of the game was concealment and all roads lead inescapably to the man who benefited the most: the defendant, former President Donald Trump,\" Steinglass said.</p>, <p>Steinglass defended the prosecution's use of Michael Cohen as a witness, telling the jury: \"I’m not asking you to feel bad for Michael Cohen. He made his bed.\" </p>, <p>\"But you can hardly blame him for making money from the one thing he has left, which is his knowledge of the inner workings of the Trump Organization,\" he said. </p>, <p>\"We didn’t choose Michael Cohen to be our witness. We didn’t pick him up at the witness store,\" Steinglass said. \"The defendant chose Michael Cohen to be his fixer because he was willing to lie and cheat on the defendant’s behalf.\" </p>, <p>Trump defense attorneys, in their second attempt to dismiss the case earlier this month, said no evidence had been presented by the prosecution to connect the former president to any falsification of business records. Defense attorneys motioned for dismissal after Michael Cohen, Trump’s former attorney and the prosecution’s \"star witness,\" finished his testimony. </p>, <p><span>Former president Donald Trump waves while leaving Trump Tower on his way to Manhattan criminal court, Tuesday, May 21, 2024, in New York. </span> <span>(AP Photo/Julia Nikhinson)</span></p>, <p>He testified that he personally made the $130,000 payment to Daniels using a home equity line of credit in an effort to conceal the payment from his wife. Cohen said he did this because Trump told him to \"handle it\" and prevent a negative story from coming out ahead of the election.</p>, <p>But Trump’s defense attorneys maintained that the president never directed Cohen to do so.</p>, <p><span>Former U.S. President Donald Trump listens as defense lawyer Todd Blanche presents closing arguments duri</span> <span>(REUTERS/Jane Rosenberg )</span></p>, <p><a href=\"https://www.foxnews.com/apps-products?pid=AppArticleLink\" rel=\"noopener noreferrer\" target=\"_blank\"><strong>CLICK HERE TO GET THE FOX NEWS APP</strong></a></p>, <p>Cohen testified that he was \"reimbursed $420,000\" for the $130,000 he paid to Daniels. Cohen said former Trump Organization CFO Allen Weisselberg suggested he \"gross up\" the payments and that Trump knew the details of the reimbursement.</p>, <p>The prosecution presented Cohen with 11 checks totaling $420,000. Cohen confirmed that they were all received and deposited. The checks had a description of a \"retainer,\" which Cohen said was false.</p>, <p><i>This is a developing story. Please check back for updates. </i></p>, <p>Brooke Singman is a political correspondent and reporter for Fox News Digital, Fox News Channel and FOX Business.</p>, <p class=\"dek\">Get the latest updates from the 2024 campaign trail, exclusive interviews and more Fox News politics content.</p>, <p class=\"subscribed hide\">Subscribed</p>, <p class=\"success hide\">You've successfully subscribed to this newsletter!</p>, <p class=\"copyright\">\n",
            "        This material may not be published, broadcast, rewritten, or redistributed. ©2024 FOX News Network, LLC. All rights reserved. Quotes displayed in real-time or delayed by at least 15 minutes. Market data provided by\n",
            "        <a data-omtr-intcmp=\"footer_factset\" href=\"https://www.factset.com/\">Factset</a>. Powered and implemented by\n",
            "        <a data-omtr-intcmp=\"footer_factset_digital_solutions\" href=\"https://www.factset.com/solutions/business-needs/digital-solutions\">FactSet Digital Solutions</a>.\n",
            "        <a data-omtr-intcmp=\"footer_factset_privacy\" href=\"https://www.factset.com/privacy\">Legal Statement</a>. Mutual Fund and ETF data provided by\n",
            "        <a data-omtr-intcmp=\"footer_refinitive_info\" href=\"https://lipperalpha.refinitiv.com/\">Refinitiv Lipper</a>.\n",
            "      </p>]\n"
          ]
        }
      ]
    },
    {
      "cell_type": "code",
      "source": [
        "only_text2 = []\n",
        "\n",
        "for el in content2:\n",
        "  if len(el.getText().strip()) > 0:\n",
        "    only_text2.append(el.getText())\n",
        "\n",
        "print(only_text2)"
      ],
      "metadata": {
        "colab": {
          "base_uri": "https://localhost:8080/"
        },
        "id": "B-6a1u2UCTRI",
        "outputId": "bb6f7f34-f792-4d54-dbdd-7242a63941ed"
      },
      "execution_count": 16,
      "outputs": [
        {
          "output_type": "stream",
          "name": "stdout",
          "text": [
            "['\\n            A Manhattan jury found Donald Trump guilty of all 34 charges\\xa0of falsifying business records Thursday, an unprecedented and historic verdict that makes Trump the first former president in American history to be convicted of a felony.\\n    ', '\\n            Not only is Trump the first former president to be found guilty of a felony, he’s also the first major-party presidential nominee to be convicted of a crime in the midst of a campaign for the White House.\\xa0And if he defeats President Joe Biden in November, he will be the first sitting president in history to be a convicted felon.\\n    ', '\\n            The verdict in the hush money trial was announced after jurors deliberated for nearly 12 hours over two days.\\n    ', '\\nRelated article\\nWhat are your questions about Trump’s conviction?\\n', '\\n            It will ultimately be up to voters in November to decide the significance of the guilty verdict delivered by 12 ordinary New Yorkers, which, on a legal basis, does not prevent him from being elected president again.\\n    ', '\\n            “This was a rigged, disgraceful trial. The real verdict is going to be November 5, by the people, and they know what happened here and everybody knows what happened here,” Trump said after leaving the courtroom, slamming the presiding judge and the prosecutor who brought the case. “We didn’t do anything wrong. I’m a very innocent man,” he said as he vowed to continue fighting.\\n    ', '\\n            Manhattan District Attorney Alvin Bragg, a Democrat, announced charges against Trump last year and presenting the first indictment of a former president, accusing him of falsifying the repayment of his former lawyer Michael Cohen in order to cover up a $130,000 payment Cohen made to adult film star Stormy Daniels to keep her from speaking out about an alleged affair with Trump before the 2016 election. (Trump has denied the affair.)\\n    ', '\\n            At a news conference Thursday evening, Bragg acknowledged the historic nature of the case and the conviction. While Trump is a defendant “unlike any other in American history,” the district attorney said the verdict was arrived at “in the same manner as every other case that comes through the courtroom doors” – “by following the facts and the law and doing so without fear or favor.”\\n    ', '\\n            “The 12 everyday jurors vowed to make a decision based on the evidence and the law, and the evidence and the law alone. Their deliberations led them to a unanimous conclusion beyond a reasonable doubt that the defendant Donald J. Trump is guilty of 34 counts of falsifying business records in the first degree, to conceal a scheme to corrupt the 2016 election,” he said.\\n    ', '\\n            Throughout the seven-week trial, the district attorney’s office brought in 20 witnesses to illustrate to jurors how the hush-money payment to Daniels was part of a pattern of payoffs to keep negative stories about Trump out of view before the election, and how Trump was concerned about the impact to the campaign when the payment was made in October 2016.\\n    ', '\\nRelated article\\nWhat it was like inside the courtroom when Donald Trump was found guilty of 34 felonies\\n', '\\n            Cohen was the prosecution’s key witness, describing how Trump directed him to pay Daniels and then approved the scheme to repay him in $35,000 monthly installments in 2017, an amount that was “grossed up” in part to account for taxes Cohen would have to pay.\\n    ', '\\n            Judge Juan Merchan set Trump’s sentencing date for July 11, 2024, at 10 a.m, just days before the start of the Republican National Convention in Milwaukee.\\n    ', '\\n            Todd Blanche, the former president’s attorney, told CNN’s Kaitlan Collins on “The Source” that they will “vigorously fight” in post-trial motions due to Merchan in a few weeks. “If that is not successful,” Blanche said they would appeal following the sentencing.\\n    ', '\\n            Moments after Trump was found guilty, Biden said the only way to defeat his GOP rival is at the ballot box, with his campaign stressing the stakes of the 2024 election.\\n    ', '\\n            “There’s only one way to keep Donald\\xa0Trump\\xa0out of the Oval Office: At the ballot box,”\\xa0Biden\\xa0wrote\\xa0on X, linking to a fundraising page.\\n    ', '\\n            His campaign said in a statement that the verdict showed “no one is above the law.”\\n    ', '\\n            “The threat Trump poses to our democracy has never been greater,” Michael Tyler, Biden 2024 campaign communications director, said. “A second Trump term means chaos, ripping away Americans’ freedoms and fomenting political violence — and the American people will reject it this November.”\\n    ', '\\n            Trump’s campaign also moved quickly to fundraise off the verdict, casting the case as a “political Witch Hunt trial,” a sentiment the former president’s allies echoed as they rushed to his defense Thursday.\\n    ', '\\n            “Today is a shameful day in American history,” House Speaker Mike Johnson said on X, calling the case “a purely political exercise, not a legal one.”\\n    ', '\\nThis story has been updated with additional developments. \\n', '\\n            Kaanita Iyer, Annie Grayer, Celina Tabor and Laura Dolan contributed to this report.\\n    ', '© 2024 Cable News Network. A Warner Bros. Discovery Company. All Rights Reserved.  CNN Sans ™ & © 2016 Cable News Network.']\n"
          ]
        }
      ]
    },
    {
      "cell_type": "code",
      "source": [
        "\n",
        "keys2 = []\n",
        "values2 = []\n",
        "\n",
        "for el in counter_dic:\n",
        "  keys.append(el)\n",
        "  values.append(counter_dic[el])"
      ],
      "metadata": {
        "id": "DKLQfH35Ca0k"
      },
      "execution_count": 17,
      "outputs": []
    },
    {
      "cell_type": "code",
      "source": [
        "joined_text2 = ''.join(map(str,only_text2))\n",
        "tokenized_text2 = nltk.word_tokenize(joined_text2)"
      ],
      "metadata": {
        "id": "9OwwzEgFCjTs"
      },
      "execution_count": 18,
      "outputs": []
    },
    {
      "cell_type": "markdown",
      "source": [
        "Next, I decided to strip the text of punctuation."
      ],
      "metadata": {
        "id": "yIidKGxAOEA5"
      }
    },
    {
      "cell_type": "code",
      "source": [
        "tokenized_text2 = [word for word in tokenized_text2 if word.isalnum()]"
      ],
      "metadata": {
        "id": "oAugakPvMPR0"
      },
      "execution_count": 47,
      "outputs": []
    },
    {
      "cell_type": "code",
      "source": [
        "tuples2 = []\n",
        "\n",
        "for sentence in tokenized_text2:\n",
        "  tokens = nltk.word_tokenize(sentence)\n",
        "  pos_tagged = nltk.pos_tag(tokens)\n",
        "  for item in pos_tagged:\n",
        "    tuples2.append(item)"
      ],
      "metadata": {
        "id": "C-HBFqOoCqZU"
      },
      "execution_count": 52,
      "outputs": []
    },
    {
      "cell_type": "code",
      "source": [
        "counter_dic2 = {}\n",
        "\n",
        "for el in tuples2:\n",
        "  tag = el[1]\n",
        "  if tag not in counter_dic2:\n",
        "    counter_dic2[tag] = 1\n",
        "  else:\n",
        "    counter_dic2[tag] += 1\n",
        "print(*(f\"{x}:{y}\" for x,y in counter_dic2.items()), sep=\", \" )"
      ],
      "metadata": {
        "colab": {
          "base_uri": "https://localhost:8080/"
        },
        "id": "JTqdeNpGC3eF",
        "outputId": "5518472c-6ad1-46b6-b698-66701af0d262"
      },
      "execution_count": 112,
      "outputs": [
        {
          "output_type": "stream",
          "name": "stdout",
          "text": [
            "DT:107, NNP:36, NN:237, JJ:44, IN:100, CD:22, NNS:47, VBG:27, CC:18, VBZ:14, RB:34, TO:32, VB:14, VBN:22, PRP:20, MD:6, VBD:29, WP:5, VBP:1, PRP$:9, WDT:1, WRB:5, EX:1, JJR:1\n"
          ]
        }
      ]
    },
    {
      "cell_type": "code",
      "source": [
        "sorted_items = sorted(counter_dic2.items(), key=lambda x: x[1], reverse=True)\n",
        "df = pd.DataFrame(list(sorted_items), columns=['Key', 'Value'])\n",
        "print(df)"
      ],
      "metadata": {
        "colab": {
          "base_uri": "https://localhost:8080/"
        },
        "id": "JtSE9jk5j6IY",
        "outputId": "e00fe58d-6c33-46dd-d6b6-acd405635753"
      },
      "execution_count": 113,
      "outputs": [
        {
          "output_type": "stream",
          "name": "stdout",
          "text": [
            "     Key  Value\n",
            "0     NN    237\n",
            "1     DT    107\n",
            "2     IN    100\n",
            "3    NNS     47\n",
            "4     JJ     44\n",
            "5    NNP     36\n",
            "6     RB     34\n",
            "7     TO     32\n",
            "8    VBD     29\n",
            "9    VBG     27\n",
            "10    CD     22\n",
            "11   VBN     22\n",
            "12   PRP     20\n",
            "13    CC     18\n",
            "14   VBZ     14\n",
            "15    VB     14\n",
            "16  PRP$      9\n",
            "17    MD      6\n",
            "18    WP      5\n",
            "19   WRB      5\n",
            "20   VBP      1\n",
            "21   WDT      1\n",
            "22    EX      1\n",
            "23   JJR      1\n"
          ]
        }
      ]
    },
    {
      "cell_type": "code",
      "source": [
        "keys2 = []\n",
        "values2 = []\n",
        "\n",
        "for el in counter_dic2:\n",
        "  keys2.append(el)\n",
        "  values2.append(counter_dic2[el])"
      ],
      "metadata": {
        "id": "7JiG5yn6DGpS"
      },
      "execution_count": 54,
      "outputs": []
    },
    {
      "cell_type": "code",
      "source": [
        "plt.bar(keys2[0:14], values2[0:14], color = 'pink')"
      ],
      "metadata": {
        "colab": {
          "base_uri": "https://localhost:8080/",
          "height": 448
        },
        "id": "YBkEhYbgDQli",
        "outputId": "3b5c6442-f5e2-41c5-adf0-ccbae648d7c7"
      },
      "execution_count": 58,
      "outputs": [
        {
          "output_type": "execute_result",
          "data": {
            "text/plain": [
              "<BarContainer object of 14 artists>"
            ]
          },
          "metadata": {},
          "execution_count": 58
        },
        {
          "output_type": "display_data",
          "data": {
            "text/plain": [
              "<Figure size 640x480 with 1 Axes>"
            ],
            "image/png": "[encoded data removed]"
          },
          "metadata": {}
        }
      ]
    },
    {
      "cell_type": "code",
      "source": [
        "plt.bar(keys2[15:24], values2[15:24], color = 'pink')"
      ],
      "metadata": {
        "colab": {
          "base_uri": "https://localhost:8080/",
          "height": 448
        },
        "id": "KrnmL20OMtYL",
        "outputId": "95abb5a3-73b6-4883-b5e3-aad2c769672a"
      },
      "execution_count": 59,
      "outputs": [
        {
          "output_type": "execute_result",
          "data": {
            "text/plain": [
              "<BarContainer object of 9 artists>"
            ]
          },
          "metadata": {},
          "execution_count": 59
        },
        {
          "output_type": "display_data",
          "data": {
            "text/plain": [
              "<Figure size 640x480 with 1 Axes>"
            ],
            "image/png": "[encoded data removed]"
          },
          "metadata": {}
        }
      ]
    },
    {
      "cell_type": "code",
      "source": [
        "plt.pie(values2,labels = keys2)"
      ],
      "metadata": {
        "colab": {
          "base_uri": "https://localhost:8080/",
          "height": 1000
        },
        "id": "nkGjdb5gDXa6",
        "outputId": "f6146bd8-8769-43aa-a61c-4a9ffd2453a0"
      },
      "execution_count": 60,
      "outputs": [
        {
          "output_type": "execute_result",
          "data": {
            "text/plain": [
              "([<matplotlib.patches.Wedge at 0x7ad2d2fe39d0>,\n",
              "  <matplotlib.patches.Wedge at 0x7ad2d2fe2a40>,\n",
              "  <matplotlib.patches.Wedge at 0x7ad2d2e142e0>,\n",
              "  <matplotlib.patches.Wedge at 0x7ad2d2e14760>,\n",
              "  <matplotlib.patches.Wedge at 0x7ad2d2e14be0>,\n",
              "  <matplotlib.patches.Wedge at 0x7ad2d2e15060>,\n",
              "  <matplotlib.patches.Wedge at 0x7ad2d2e154e0>,\n",
              "  <matplotlib.patches.Wedge at 0x7ad2d2e15960>,\n",
              "  <matplotlib.patches.Wedge at 0x7ad2d2e15de0>,\n",
              "  <matplotlib.patches.Wedge at 0x7ad2d2e16260>,\n",
              "  <matplotlib.patches.Wedge at 0x7ad2d2fe39a0>,\n",
              "  <matplotlib.patches.Wedge at 0x7ad2d2e16b30>,\n",
              "  <matplotlib.patches.Wedge at 0x7ad2d2e16fb0>,\n",
              "  <matplotlib.patches.Wedge at 0x7ad2d2e17430>,\n",
              "  <matplotlib.patches.Wedge at 0x7ad2d2e178b0>,\n",
              "  <matplotlib.patches.Wedge at 0x7ad2d2e17d30>,\n",
              "  <matplotlib.patches.Wedge at 0x7ad2d2e481f0>,\n",
              "  <matplotlib.patches.Wedge at 0x7ad2d2e48670>,\n",
              "  <matplotlib.patches.Wedge at 0x7ad2d2e48af0>,\n",
              "  <matplotlib.patches.Wedge at 0x7ad2d2e48f70>,\n",
              "  <matplotlib.patches.Wedge at 0x7ad2d2e493f0>,\n",
              "  <matplotlib.patches.Wedge at 0x7ad2d2e49870>,\n",
              "  <matplotlib.patches.Wedge at 0x7ad2d2e49cf0>,\n",
              "  <matplotlib.patches.Wedge at 0x7ad2d2e4a170>],\n",
              " [Text(1.0114339040968279, 0.4324366515958715, 'DT'),\n",
              "  Text(0.6452189273929548, 0.8908942337527418, 'NNP'),\n",
              "  Text(-0.4324366989445092, 1.0114338838530061, 'NN'),\n",
              "  Text(-1.0938577635184967, 0.11608269978904152, 'JJ'),\n",
              "  Text(-0.9961569629535527, -0.4665525749142904, 'IN'),\n",
              "  Text(-0.6849105021252644, -0.8607540903640936, 'CD'),\n",
              "  Text(-0.4400624356780371, -1.00813940142478, 'NNS'),\n",
              "  Text(-0.14495129303077067, -1.0904077781493984, 'VBG'),\n",
              "  Text(0.0415256915548689, -1.099215910065393, 'CC'),\n",
              "  Text(0.17371876408197298, -1.0861960186843957, 'VBZ'),\n",
              "  Text(0.3666655399162003, -1.0370903441060288, 'RB'),\n",
              "  Text(0.6111273312500712, -0.9146165234671665, 'TO'),\n",
              "  Text(0.7599974148878197, -0.7952382846441884, 'VB'),\n",
              "  Text(0.8607541063955811, -0.6849104819778603, 'VBN'),\n",
              "  Text(0.958117673318818, -0.5403799811929888, 'PRP'),\n",
              "  Text(1.0064705759388073, -0.4438659479723645, 'MD'),\n",
              "  Text(1.0561839180282189, -0.3073687220563614, 'VBD'),\n",
              "  Text(1.0868442560768645, -0.1696159280042034, 'WP'),\n",
              "  Text(1.0904077811711375, -0.1449512702994943, 'VBP'),\n",
              "  Text(1.0951025226932496, -0.10368444816307189, 'PRP$'),\n",
              "  Text(1.0982360722958358, -0.06226981217424998, 'WDT'),\n",
              "  Text(1.0993648787636117, -0.037374634995802666, 'WRB'),\n",
              "  Text(1.099929425712709, -0.012460274929161531, 'EX'),\n",
              "  Text(1.0999921585972388, -0.004153435275456359, 'JJR')])"
            ]
          },
          "metadata": {},
          "execution_count": 60
        },
        {
          "output_type": "display_data",
          "data": {
            "text/plain": [
              "<Figure size 640x480 with 1 Axes>"
            ],
            "image/png": "[encoded data removed]"
          },
          "metadata": {}
        }
      ]
    },
    {
      "cell_type": "markdown",
      "source": [
        "## 🎉 **Breif Sentiment Analysis**\n",
        "<a id=\"code-section-3\"></a>"
      ],
      "metadata": {
        "id": "uCA35cNeOUGS"
      }
    },
    {
      "cell_type": "markdown",
      "source": [
        "Additionally, I investigated the overall sentiment of each article using VADER, suspecting that the Fox News article would be more negative, due to their close connection with the former president and the unfavorable verdict."
      ],
      "metadata": {
        "id": "INxZJ-iDCmSQ"
      }
    },
    {
      "cell_type": "code",
      "source": [
        "from nltk.sentiment import SentimentIntensityAnalyzer\n",
        "sia = SentimentIntensityAnalyzer()"
      ],
      "metadata": {
        "id": "9OlBnp-zO7gK"
      },
      "execution_count": 92,
      "outputs": []
    },
    {
      "cell_type": "code",
      "source": [
        "# Article 1\n",
        "sia.polarity_scores(str(only_text))"
      ],
      "metadata": {
        "colab": {
          "base_uri": "https://localhost:8080/"
        },
        "id": "d08sbhSlPk6u",
        "outputId": "9645ec83-487e-4a3d-ec5a-e41fff2c917b"
      },
      "execution_count": 93,
      "outputs": [
        {
          "output_type": "execute_result",
          "data": {
            "text/plain": [
              "{'neg': 0.087, 'neu': 0.863, 'pos': 0.05, 'compound': -0.9975}"
            ]
          },
          "metadata": {},
          "execution_count": 93
        }
      ]
    },
    {
      "cell_type": "code",
      "source": [
        "#Article 2\n",
        "sia.polarity_scores(str(only_text2))"
      ],
      "metadata": {
        "colab": {
          "base_uri": "https://localhost:8080/"
        },
        "id": "d057dT02QCgj",
        "outputId": "0108c500-1708-4175-e161-66c8dbccc19c"
      },
      "execution_count": 94,
      "outputs": [
        {
          "output_type": "execute_result",
          "data": {
            "text/plain": [
              "{'neg': 0.084, 'neu': 0.881, 'pos': 0.034, 'compound': -0.9931}"
            ]
          },
          "metadata": {},
          "execution_count": 94
        }
      ]
    },
    {
      "cell_type": "markdown",
      "source": [
        "\n",
        "**_SENTIMENT ANALYSIS RESULTS_**\n",
        "\n",
        "| News Network | Compound |\n",
        "| --- | --- |\n",
        "| Fox News | -0.9975 |\n",
        "| CNN | -0.9931 |\n"
      ],
      "metadata": {
        "id": "BSCpki6pU3qN"
      }
    },
    {
      "cell_type": "markdown",
      "source": [
        "The difference in sentiment is so marginal, that one is unable to determine anything of value."
      ],
      "metadata": {
        "id": "oscsmIk-Dy-W"
      }
    },
    {
      "cell_type": "markdown",
      "source": [
        "## 🚀**Conclusion**\n",
        "<a id=\"conclusion\"></a>\n",
        "\n",
        "Based on the provided findings from the two articles, one can draw some basic conclusions about the usage of different parts of speech in each article:\n",
        "\n",
        "**Dominant Parts of Speech:**\n",
        "- Most frequeent POS\n",
        "\n",
        "  - Article 1: The most frequently occurring parts of speech are nouns (**NN**) with 568 occurrences, followed by determiners (**DT**) with 205 occurrences. Nouns and determiners seem to be heavily used in Article 1.\n",
        "  - Article 2: Similarly, in Article 2, nouns (**NN**) are the most frequent, with 237 occurrences, followed by determiners (**DT**) with 107 occurrences. Again, nouns and determiners are prominently used in Article 2.\n",
        "\n",
        "- Variation in Verb Forms:\n",
        "\n",
        "  - Article 1: Verbs appear in various forms, including past participle (**VBN**), base form (**VB**), past tense (**VBD**), and present tense (**VBZ, VBP**). This suggests a diverse range of verb usage in Article 1.\n",
        "  - Article 2: Verb usage in Article 2 is less varied compared to Article 1, with fewer verb forms observed.\n",
        "\n",
        "- Comparative and Superlative Forms:\n",
        "\n",
        "  - Comparative (**JJR**) and superlative (**JJS**) adjective forms are used in Article 1, indicating comparisons or degrees of comparison.\n",
        "\n",
        "**Sentiment Analysis:**\n",
        "\n",
        "- Article 1: The sentiment analysis using NLTK's VADER Sentiment Intensity Analyzer indicates a  negative sentiment with a compound score of -0.9975. The negative sentiment score (**neg**) is 0.087, the neutral score (**neu**) is 0.863, and the positive score (**pos**) is 0.05.\n",
        "\n",
        "- Article 2: Similarly, the sentiment analysis using NLTK's VADER Sentiment Intensity Analyzer shows a slightly negative sentiment with a compound score of -0.9931. The negative sentiment score (**neg**) is 0.084, the neutral score (**neu**) is 0.881, and the positive score (**pos**) is 0.034.\n",
        "\n",
        "Although the news networks are unoffcially affiliated with opposing political parties, neither the sentiment analysis nor the POS analysis reveals any substantial differences. Further research and contextual interpretation are necessary to fully understand the content and implications of the articles written by Fox News and CNN concerning Donald Trump.\n"
      ],
      "metadata": {
        "id": "hlc0AAmDceJf"
      }
    },
    {
      "cell_type": "markdown",
      "source": [
        "## 🗂️Bibliography:\n",
        "<a id=\"bibliography\"></a>\n",
        "\n",
        "- Herb Jeremy,  del Valle Lauren,  ScannellKara. 2024. 'Trump found guilty in hush money trial'. Text.Artticle. CNN. 30 May 2024. https://edition.cnn.com/2024/05/30/politics/donald-trump-hush-money-trial-verdict/index.html\n",
        "\n",
        "- Hutto, C.J. & Gilbert, E.E. (2014). VADER: A Parsimonious Rule-based Model for Sentiment Analysis of Social Media Text. Eighth International Conference on Weblogs and Social Media (ICWSM-14). Ann Arbor, MI, June 2014.\n",
        "\n",
        "- Singman, Brooke. 2024. ‘Trump Guilty on All Counts in New York Criminal\n",
        "Trial’. Text.Article. Fox News. Fox News. 28 May 2024. https://www.foxnews.com/politics/ny-v-trump-jury-verdict-former-presidents-historic-criminal-trial.\n"
      ],
      "metadata": {
        "id": "zeMkHoohrrlV"
      }
    }
  ]
}
